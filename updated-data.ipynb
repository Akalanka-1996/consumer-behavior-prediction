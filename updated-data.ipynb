{
 "cells": [
  {
   "cell_type": "code",
   "execution_count": 1,
   "metadata": {
    "execution": {
     "iopub.execute_input": "2023-08-07T14:07:00.006352Z",
     "iopub.status.busy": "2023-08-07T14:07:00.005864Z",
     "iopub.status.idle": "2023-08-07T14:07:14.233721Z",
     "shell.execute_reply": "2023-08-07T14:07:14.231873Z",
     "shell.execute_reply.started": "2023-08-07T14:07:00.006311Z"
    }
   },
   "outputs": [
    {
     "name": "stderr",
     "output_type": "stream",
     "text": [
      "/opt/conda/lib/python3.10/site-packages/scipy/__init__.py:146: UserWarning: A NumPy version >=1.16.5 and <1.23.0 is required for this version of SciPy (detected version 1.23.5\n",
      "  warnings.warn(f\"A NumPy version >={np_minversion} and <{np_maxversion}\"\n",
      "/opt/conda/lib/python3.10/site-packages/tensorflow_io/python/ops/__init__.py:98: UserWarning: unable to load libtensorflow_io_plugins.so: unable to open file: libtensorflow_io_plugins.so, from paths: ['/opt/conda/lib/python3.10/site-packages/tensorflow_io/python/ops/libtensorflow_io_plugins.so']\n",
      "caused by: ['/opt/conda/lib/python3.10/site-packages/tensorflow_io/python/ops/libtensorflow_io_plugins.so: undefined symbol: _ZN3tsl6StatusC1EN10tensorflow5error4CodeESt17basic_string_viewIcSt11char_traitsIcEENS_14SourceLocationE']\n",
      "  warnings.warn(f\"unable to load libtensorflow_io_plugins.so: {e}\")\n",
      "/opt/conda/lib/python3.10/site-packages/tensorflow_io/python/ops/__init__.py:104: UserWarning: file system plugins are not loaded: unable to open file: libtensorflow_io.so, from paths: ['/opt/conda/lib/python3.10/site-packages/tensorflow_io/python/ops/libtensorflow_io.so']\n",
      "caused by: ['/opt/conda/lib/python3.10/site-packages/tensorflow_io/python/ops/libtensorflow_io.so: undefined symbol: _ZTVN10tensorflow13GcsFileSystemE']\n",
      "  warnings.warn(f\"file system plugins are not loaded: {e}\")\n"
     ]
    }
   ],
   "source": [
    "import pandas as pd\n",
    "import pandas as pd\n",
    "from matplotlib import cm\n",
    "import numpy as np\n",
    "import matplotlib.pyplot as plt\n",
    "import matplotlib.patches as patches\n",
    "import matplotlib.path as path\n",
    "import matplotlib.ticker as ticker\n",
    "import matplotlib.animation as animation\n",
    "import pandas as pd\n",
    "import seaborn as sns\n",
    "import category_encoders as ce\n",
    "from mpl_toolkits.axes_grid1 import make_axes_locatable\n",
    "from sklearn.model_selection import train_test_split\n",
    "from sklearn.preprocessing import LabelEncoder, MinMaxScaler, OneHotEncoder\n",
    "from sklearn.linear_model import LogisticRegression\n",
    "from sklearn.metrics import accuracy_score\n",
    "\n",
    "import tensorflow as tf\n",
    "from tensorflow.keras.applications import ResNet50\n",
    "from tensorflow.keras.applications.resnet50 import preprocess_input\n",
    "from sklearn.cluster import KMeans\n",
    "\n",
    "\n",
    "# from keras.utils.np_utils import to_categorical\n",
    "# from keras.models import Sequential\n",
    "# from keras.layers import Dense, Dropout, Flatten, Conv2D, MaxPool2D\n",
    "# from keras.optimizers import RMSprop\n",
    "# from keras.preprocessing.image import ImageDataGenerator\n",
    "# from keras.callbacks import ReduceLROnPlateau, EarlyStopping, ModelCheckpoint\n",
    "\n",
    "# from keras.models import Sequential, load_model, Model\n",
    "# from keras.applications.vgg16 import VGG16\n",
    "# from keras.applications.densenet import DenseNet169, DenseNet121\n",
    "# from keras.applications.resnet import ResNet50\n",
    "\n",
    "from PIL import Image\n",
    "import os\n",
    "from pylab import *\n",
    "import re\n",
    "from PIL import Image, ImageChops, ImageEnhance\n",
    "\n",
    "import keras\n",
    "from keras.models import Sequential\n",
    "from keras.layers import Dense, Dropout, Flatten\n",
    "from keras.layers import Conv2D, MaxPooling2D\n",
    "from keras.utils import to_categorical\n",
    "from keras.preprocessing import image\n",
    "import numpy as np\n",
    "import pandas as pd\n",
    "import matplotlib.pyplot as plt\n",
    "from sklearn.model_selection import train_test_split\n",
    "from tqdm import tqdm\n",
    "%matplotlib inline"
   ]
  },
  {
   "cell_type": "code",
   "execution_count": 2,
   "metadata": {
    "execution": {
     "iopub.execute_input": "2023-08-07T14:15:02.006901Z",
     "iopub.status.busy": "2023-08-07T14:15:02.005339Z",
     "iopub.status.idle": "2023-08-07T14:15:02.103326Z",
     "shell.execute_reply": "2023-08-07T14:15:02.101332Z",
     "shell.execute_reply.started": "2023-08-07T14:15:02.006835Z"
    }
   },
   "outputs": [],
   "source": [
    "data = pd.read_csv('/kaggle/input/newimagedata/new_data.csv')\n"
   ]
  },
  {
   "cell_type": "code",
   "execution_count": 3,
   "metadata": {
    "execution": {
     "iopub.execute_input": "2023-08-07T14:18:36.000541Z",
     "iopub.status.busy": "2023-08-07T14:18:35.999903Z",
     "iopub.status.idle": "2023-08-07T14:18:36.052019Z",
     "shell.execute_reply": "2023-08-07T14:18:36.049457Z",
     "shell.execute_reply.started": "2023-08-07T14:18:36.000497Z"
    }
   },
   "outputs": [],
   "source": [
    "data = data.dropna() \n"
   ]
  },
  {
   "cell_type": "code",
   "execution_count": 4,
   "metadata": {
    "execution": {
     "iopub.execute_input": "2023-08-07T14:18:51.641809Z",
     "iopub.status.busy": "2023-08-07T14:18:51.641265Z",
     "iopub.status.idle": "2023-08-07T14:18:51.675578Z",
     "shell.execute_reply": "2023-08-07T14:18:51.673966Z",
     "shell.execute_reply.started": "2023-08-07T14:18:51.641761Z"
    }
   },
   "outputs": [
    {
     "data": {
      "text/html": [
       "<div>\n",
       "<style scoped>\n",
       "    .dataframe tbody tr th:only-of-type {\n",
       "        vertical-align: middle;\n",
       "    }\n",
       "\n",
       "    .dataframe tbody tr th {\n",
       "        vertical-align: top;\n",
       "    }\n",
       "\n",
       "    .dataframe thead th {\n",
       "        text-align: right;\n",
       "    }\n",
       "</style>\n",
       "<table border=\"1\" class=\"dataframe\">\n",
       "  <thead>\n",
       "    <tr style=\"text-align: right;\">\n",
       "      <th></th>\n",
       "      <th>age</th>\n",
       "      <th>gender</th>\n",
       "      <th>isMarried</th>\n",
       "      <th>race</th>\n",
       "      <th>religion</th>\n",
       "      <th>priceRange</th>\n",
       "      <th>district</th>\n",
       "      <th>imagePath</th>\n",
       "    </tr>\n",
       "  </thead>\n",
       "  <tbody>\n",
       "    <tr>\n",
       "      <th>0</th>\n",
       "      <td>20-25</td>\n",
       "      <td>male</td>\n",
       "      <td>False</td>\n",
       "      <td>Sinhala</td>\n",
       "      <td>Buddhism</td>\n",
       "      <td>0-2000</td>\n",
       "      <td>Colombo</td>\n",
       "      <td>1</td>\n",
       "    </tr>\n",
       "    <tr>\n",
       "      <th>1</th>\n",
       "      <td>20-25</td>\n",
       "      <td>male</td>\n",
       "      <td>False</td>\n",
       "      <td>Sinhala</td>\n",
       "      <td>Buddhism</td>\n",
       "      <td>0-2000</td>\n",
       "      <td>Kalutara</td>\n",
       "      <td>11</td>\n",
       "    </tr>\n",
       "    <tr>\n",
       "      <th>2</th>\n",
       "      <td>20-25</td>\n",
       "      <td>male</td>\n",
       "      <td>False</td>\n",
       "      <td>Tamil</td>\n",
       "      <td>Catholic</td>\n",
       "      <td>0-2000</td>\n",
       "      <td>Gampaha</td>\n",
       "      <td>17</td>\n",
       "    </tr>\n",
       "    <tr>\n",
       "      <th>3</th>\n",
       "      <td>20-25</td>\n",
       "      <td>male</td>\n",
       "      <td>False</td>\n",
       "      <td>Tamil</td>\n",
       "      <td>Hindu</td>\n",
       "      <td>0-2000</td>\n",
       "      <td>Kurunegala</td>\n",
       "      <td>7</td>\n",
       "    </tr>\n",
       "    <tr>\n",
       "      <th>4</th>\n",
       "      <td>20-25</td>\n",
       "      <td>male</td>\n",
       "      <td>False</td>\n",
       "      <td>Sinhala</td>\n",
       "      <td>Catholic</td>\n",
       "      <td>0-2000</td>\n",
       "      <td>Kurunegala</td>\n",
       "      <td>9</td>\n",
       "    </tr>\n",
       "  </tbody>\n",
       "</table>\n",
       "</div>"
      ],
      "text/plain": [
       "     age gender  isMarried     race  religion priceRange    district  \\\n",
       "0  20-25   male      False  Sinhala  Buddhism     0-2000     Colombo   \n",
       "1  20-25   male      False  Sinhala  Buddhism     0-2000    Kalutara   \n",
       "2  20-25   male      False    Tamil  Catholic     0-2000     Gampaha   \n",
       "3  20-25   male      False    Tamil     Hindu     0-2000  Kurunegala   \n",
       "4  20-25   male      False  Sinhala  Catholic     0-2000  Kurunegala   \n",
       "\n",
       "   imagePath  \n",
       "0          1  \n",
       "1         11  \n",
       "2         17  \n",
       "3          7  \n",
       "4          9  "
      ]
     },
     "execution_count": 4,
     "metadata": {},
     "output_type": "execute_result"
    }
   ],
   "source": [
    "data.head()"
   ]
  },
  {
   "cell_type": "code",
   "execution_count": 5,
   "metadata": {
    "execution": {
     "iopub.execute_input": "2023-08-07T14:19:00.607145Z",
     "iopub.status.busy": "2023-08-07T14:19:00.606703Z",
     "iopub.status.idle": "2023-08-07T14:19:00.638054Z",
     "shell.execute_reply": "2023-08-07T14:19:00.636147Z",
     "shell.execute_reply.started": "2023-08-07T14:19:00.607108Z"
    }
   },
   "outputs": [
    {
     "data": {
      "text/html": [
       "<div>\n",
       "<style scoped>\n",
       "    .dataframe tbody tr th:only-of-type {\n",
       "        vertical-align: middle;\n",
       "    }\n",
       "\n",
       "    .dataframe tbody tr th {\n",
       "        vertical-align: top;\n",
       "    }\n",
       "\n",
       "    .dataframe thead th {\n",
       "        text-align: right;\n",
       "    }\n",
       "</style>\n",
       "<table border=\"1\" class=\"dataframe\">\n",
       "  <thead>\n",
       "    <tr style=\"text-align: right;\">\n",
       "      <th></th>\n",
       "      <th>age</th>\n",
       "      <th>gender</th>\n",
       "      <th>isMarried</th>\n",
       "      <th>race</th>\n",
       "      <th>religion</th>\n",
       "      <th>priceRange</th>\n",
       "      <th>district</th>\n",
       "      <th>imagePath</th>\n",
       "    </tr>\n",
       "  </thead>\n",
       "  <tbody>\n",
       "    <tr>\n",
       "      <th>0</th>\n",
       "      <td>20-25</td>\n",
       "      <td>male</td>\n",
       "      <td>False</td>\n",
       "      <td>Sinhala</td>\n",
       "      <td>Buddhism</td>\n",
       "      <td>0-2000</td>\n",
       "      <td>Colombo</td>\n",
       "      <td>1</td>\n",
       "    </tr>\n",
       "    <tr>\n",
       "      <th>1</th>\n",
       "      <td>20-25</td>\n",
       "      <td>male</td>\n",
       "      <td>False</td>\n",
       "      <td>Sinhala</td>\n",
       "      <td>Buddhism</td>\n",
       "      <td>0-2000</td>\n",
       "      <td>Kalutara</td>\n",
       "      <td>11</td>\n",
       "    </tr>\n",
       "    <tr>\n",
       "      <th>2</th>\n",
       "      <td>20-25</td>\n",
       "      <td>male</td>\n",
       "      <td>False</td>\n",
       "      <td>Tamil</td>\n",
       "      <td>Catholic</td>\n",
       "      <td>0-2000</td>\n",
       "      <td>Gampaha</td>\n",
       "      <td>17</td>\n",
       "    </tr>\n",
       "    <tr>\n",
       "      <th>3</th>\n",
       "      <td>20-25</td>\n",
       "      <td>male</td>\n",
       "      <td>False</td>\n",
       "      <td>Tamil</td>\n",
       "      <td>Hindu</td>\n",
       "      <td>0-2000</td>\n",
       "      <td>Kurunegala</td>\n",
       "      <td>7</td>\n",
       "    </tr>\n",
       "    <tr>\n",
       "      <th>4</th>\n",
       "      <td>20-25</td>\n",
       "      <td>male</td>\n",
       "      <td>False</td>\n",
       "      <td>Sinhala</td>\n",
       "      <td>Catholic</td>\n",
       "      <td>0-2000</td>\n",
       "      <td>Kurunegala</td>\n",
       "      <td>9</td>\n",
       "    </tr>\n",
       "    <tr>\n",
       "      <th>...</th>\n",
       "      <td>...</td>\n",
       "      <td>...</td>\n",
       "      <td>...</td>\n",
       "      <td>...</td>\n",
       "      <td>...</td>\n",
       "      <td>...</td>\n",
       "      <td>...</td>\n",
       "      <td>...</td>\n",
       "    </tr>\n",
       "    <tr>\n",
       "      <th>14807</th>\n",
       "      <td>25-30</td>\n",
       "      <td>female</td>\n",
       "      <td>True</td>\n",
       "      <td>Tamil</td>\n",
       "      <td>Hindu</td>\n",
       "      <td>0-2000</td>\n",
       "      <td>Gampaha</td>\n",
       "      <td>23</td>\n",
       "    </tr>\n",
       "    <tr>\n",
       "      <th>14808</th>\n",
       "      <td>30-35</td>\n",
       "      <td>male</td>\n",
       "      <td>True</td>\n",
       "      <td>Sinhala</td>\n",
       "      <td>Catholic</td>\n",
       "      <td>2000-4000</td>\n",
       "      <td>Kandy</td>\n",
       "      <td>42</td>\n",
       "    </tr>\n",
       "    <tr>\n",
       "      <th>14809</th>\n",
       "      <td>25-30</td>\n",
       "      <td>female</td>\n",
       "      <td>True</td>\n",
       "      <td>Tamil</td>\n",
       "      <td>Catholic</td>\n",
       "      <td>0-2000</td>\n",
       "      <td>Gampaha</td>\n",
       "      <td>25</td>\n",
       "    </tr>\n",
       "    <tr>\n",
       "      <th>14810</th>\n",
       "      <td>20-25</td>\n",
       "      <td>male</td>\n",
       "      <td>True</td>\n",
       "      <td>Tamil</td>\n",
       "      <td>Hindu</td>\n",
       "      <td>0-2000</td>\n",
       "      <td>Kandy</td>\n",
       "      <td>2</td>\n",
       "    </tr>\n",
       "    <tr>\n",
       "      <th>14811</th>\n",
       "      <td>20-25</td>\n",
       "      <td>male</td>\n",
       "      <td>False</td>\n",
       "      <td>Sinhala</td>\n",
       "      <td>Catholic</td>\n",
       "      <td>0-2000</td>\n",
       "      <td>Kurunegala</td>\n",
       "      <td>17</td>\n",
       "    </tr>\n",
       "  </tbody>\n",
       "</table>\n",
       "<p>14812 rows × 8 columns</p>\n",
       "</div>"
      ],
      "text/plain": [
       "         age  gender  isMarried     race  religion priceRange    district  \\\n",
       "0      20-25    male      False  Sinhala  Buddhism     0-2000     Colombo   \n",
       "1      20-25    male      False  Sinhala  Buddhism     0-2000    Kalutara   \n",
       "2      20-25    male      False    Tamil  Catholic     0-2000     Gampaha   \n",
       "3      20-25    male      False    Tamil     Hindu     0-2000  Kurunegala   \n",
       "4      20-25    male      False  Sinhala  Catholic     0-2000  Kurunegala   \n",
       "...      ...     ...        ...      ...       ...        ...         ...   \n",
       "14807  25-30  female       True    Tamil     Hindu     0-2000     Gampaha   \n",
       "14808  30-35    male       True  Sinhala  Catholic  2000-4000       Kandy   \n",
       "14809  25-30  female       True    Tamil  Catholic     0-2000     Gampaha   \n",
       "14810  20-25    male       True    Tamil     Hindu     0-2000       Kandy   \n",
       "14811  20-25    male      False  Sinhala  Catholic     0-2000  Kurunegala   \n",
       "\n",
       "       imagePath  \n",
       "0              1  \n",
       "1             11  \n",
       "2             17  \n",
       "3              7  \n",
       "4              9  \n",
       "...          ...  \n",
       "14807         23  \n",
       "14808         42  \n",
       "14809         25  \n",
       "14810          2  \n",
       "14811         17  \n",
       "\n",
       "[14812 rows x 8 columns]"
      ]
     },
     "execution_count": 5,
     "metadata": {},
     "output_type": "execute_result"
    }
   ],
   "source": [
    "data"
   ]
  },
  {
   "cell_type": "code",
   "execution_count": 8,
   "metadata": {
    "execution": {
     "iopub.execute_input": "2023-08-07T14:19:56.928698Z",
     "iopub.status.busy": "2023-08-07T14:19:56.928091Z",
     "iopub.status.idle": "2023-08-07T14:19:56.963596Z",
     "shell.execute_reply": "2023-08-07T14:19:56.962171Z",
     "shell.execute_reply.started": "2023-08-07T14:19:56.928656Z"
    }
   },
   "outputs": [],
   "source": [
    "newdata = pd.get_dummies(data,columns=[ 'age','gender','isMarried','race','religion','priceRange','district'])"
   ]
  },
  {
   "cell_type": "code",
   "execution_count": 9,
   "metadata": {
    "execution": {
     "iopub.execute_input": "2023-08-07T14:20:05.522756Z",
     "iopub.status.busy": "2023-08-07T14:20:05.521990Z",
     "iopub.status.idle": "2023-08-07T14:20:05.562869Z",
     "shell.execute_reply": "2023-08-07T14:20:05.559452Z",
     "shell.execute_reply.started": "2023-08-07T14:20:05.522670Z"
    }
   },
   "outputs": [
    {
     "data": {
      "text/html": [
       "<div>\n",
       "<style scoped>\n",
       "    .dataframe tbody tr th:only-of-type {\n",
       "        vertical-align: middle;\n",
       "    }\n",
       "\n",
       "    .dataframe tbody tr th {\n",
       "        vertical-align: top;\n",
       "    }\n",
       "\n",
       "    .dataframe thead th {\n",
       "        text-align: right;\n",
       "    }\n",
       "</style>\n",
       "<table border=\"1\" class=\"dataframe\">\n",
       "  <thead>\n",
       "    <tr style=\"text-align: right;\">\n",
       "      <th></th>\n",
       "      <th>imagePath</th>\n",
       "      <th>age_20-25</th>\n",
       "      <th>age_25-30</th>\n",
       "      <th>age_30-35</th>\n",
       "      <th>gender_female</th>\n",
       "      <th>gender_male</th>\n",
       "      <th>isMarried_False</th>\n",
       "      <th>isMarried_True</th>\n",
       "      <th>race_Muslim</th>\n",
       "      <th>race_Sinhala</th>\n",
       "      <th>...</th>\n",
       "      <th>religion_Catholic</th>\n",
       "      <th>religion_Hindu</th>\n",
       "      <th>religion_Islam</th>\n",
       "      <th>priceRange_0-2000</th>\n",
       "      <th>priceRange_2000-4000</th>\n",
       "      <th>district_Colombo</th>\n",
       "      <th>district_Gampaha</th>\n",
       "      <th>district_Kalutara</th>\n",
       "      <th>district_Kandy</th>\n",
       "      <th>district_Kurunegala</th>\n",
       "    </tr>\n",
       "  </thead>\n",
       "  <tbody>\n",
       "    <tr>\n",
       "      <th>0</th>\n",
       "      <td>1</td>\n",
       "      <td>1</td>\n",
       "      <td>0</td>\n",
       "      <td>0</td>\n",
       "      <td>0</td>\n",
       "      <td>1</td>\n",
       "      <td>1</td>\n",
       "      <td>0</td>\n",
       "      <td>0</td>\n",
       "      <td>1</td>\n",
       "      <td>...</td>\n",
       "      <td>0</td>\n",
       "      <td>0</td>\n",
       "      <td>0</td>\n",
       "      <td>1</td>\n",
       "      <td>0</td>\n",
       "      <td>1</td>\n",
       "      <td>0</td>\n",
       "      <td>0</td>\n",
       "      <td>0</td>\n",
       "      <td>0</td>\n",
       "    </tr>\n",
       "    <tr>\n",
       "      <th>1</th>\n",
       "      <td>11</td>\n",
       "      <td>1</td>\n",
       "      <td>0</td>\n",
       "      <td>0</td>\n",
       "      <td>0</td>\n",
       "      <td>1</td>\n",
       "      <td>1</td>\n",
       "      <td>0</td>\n",
       "      <td>0</td>\n",
       "      <td>1</td>\n",
       "      <td>...</td>\n",
       "      <td>0</td>\n",
       "      <td>0</td>\n",
       "      <td>0</td>\n",
       "      <td>1</td>\n",
       "      <td>0</td>\n",
       "      <td>0</td>\n",
       "      <td>0</td>\n",
       "      <td>1</td>\n",
       "      <td>0</td>\n",
       "      <td>0</td>\n",
       "    </tr>\n",
       "    <tr>\n",
       "      <th>2</th>\n",
       "      <td>17</td>\n",
       "      <td>1</td>\n",
       "      <td>0</td>\n",
       "      <td>0</td>\n",
       "      <td>0</td>\n",
       "      <td>1</td>\n",
       "      <td>1</td>\n",
       "      <td>0</td>\n",
       "      <td>0</td>\n",
       "      <td>0</td>\n",
       "      <td>...</td>\n",
       "      <td>1</td>\n",
       "      <td>0</td>\n",
       "      <td>0</td>\n",
       "      <td>1</td>\n",
       "      <td>0</td>\n",
       "      <td>0</td>\n",
       "      <td>1</td>\n",
       "      <td>0</td>\n",
       "      <td>0</td>\n",
       "      <td>0</td>\n",
       "    </tr>\n",
       "    <tr>\n",
       "      <th>3</th>\n",
       "      <td>7</td>\n",
       "      <td>1</td>\n",
       "      <td>0</td>\n",
       "      <td>0</td>\n",
       "      <td>0</td>\n",
       "      <td>1</td>\n",
       "      <td>1</td>\n",
       "      <td>0</td>\n",
       "      <td>0</td>\n",
       "      <td>0</td>\n",
       "      <td>...</td>\n",
       "      <td>0</td>\n",
       "      <td>1</td>\n",
       "      <td>0</td>\n",
       "      <td>1</td>\n",
       "      <td>0</td>\n",
       "      <td>0</td>\n",
       "      <td>0</td>\n",
       "      <td>0</td>\n",
       "      <td>0</td>\n",
       "      <td>1</td>\n",
       "    </tr>\n",
       "    <tr>\n",
       "      <th>4</th>\n",
       "      <td>9</td>\n",
       "      <td>1</td>\n",
       "      <td>0</td>\n",
       "      <td>0</td>\n",
       "      <td>0</td>\n",
       "      <td>1</td>\n",
       "      <td>1</td>\n",
       "      <td>0</td>\n",
       "      <td>0</td>\n",
       "      <td>1</td>\n",
       "      <td>...</td>\n",
       "      <td>1</td>\n",
       "      <td>0</td>\n",
       "      <td>0</td>\n",
       "      <td>1</td>\n",
       "      <td>0</td>\n",
       "      <td>0</td>\n",
       "      <td>0</td>\n",
       "      <td>0</td>\n",
       "      <td>0</td>\n",
       "      <td>1</td>\n",
       "    </tr>\n",
       "    <tr>\n",
       "      <th>...</th>\n",
       "      <td>...</td>\n",
       "      <td>...</td>\n",
       "      <td>...</td>\n",
       "      <td>...</td>\n",
       "      <td>...</td>\n",
       "      <td>...</td>\n",
       "      <td>...</td>\n",
       "      <td>...</td>\n",
       "      <td>...</td>\n",
       "      <td>...</td>\n",
       "      <td>...</td>\n",
       "      <td>...</td>\n",
       "      <td>...</td>\n",
       "      <td>...</td>\n",
       "      <td>...</td>\n",
       "      <td>...</td>\n",
       "      <td>...</td>\n",
       "      <td>...</td>\n",
       "      <td>...</td>\n",
       "      <td>...</td>\n",
       "      <td>...</td>\n",
       "    </tr>\n",
       "    <tr>\n",
       "      <th>14807</th>\n",
       "      <td>23</td>\n",
       "      <td>0</td>\n",
       "      <td>1</td>\n",
       "      <td>0</td>\n",
       "      <td>1</td>\n",
       "      <td>0</td>\n",
       "      <td>0</td>\n",
       "      <td>1</td>\n",
       "      <td>0</td>\n",
       "      <td>0</td>\n",
       "      <td>...</td>\n",
       "      <td>0</td>\n",
       "      <td>1</td>\n",
       "      <td>0</td>\n",
       "      <td>1</td>\n",
       "      <td>0</td>\n",
       "      <td>0</td>\n",
       "      <td>1</td>\n",
       "      <td>0</td>\n",
       "      <td>0</td>\n",
       "      <td>0</td>\n",
       "    </tr>\n",
       "    <tr>\n",
       "      <th>14808</th>\n",
       "      <td>42</td>\n",
       "      <td>0</td>\n",
       "      <td>0</td>\n",
       "      <td>1</td>\n",
       "      <td>0</td>\n",
       "      <td>1</td>\n",
       "      <td>0</td>\n",
       "      <td>1</td>\n",
       "      <td>0</td>\n",
       "      <td>1</td>\n",
       "      <td>...</td>\n",
       "      <td>1</td>\n",
       "      <td>0</td>\n",
       "      <td>0</td>\n",
       "      <td>0</td>\n",
       "      <td>1</td>\n",
       "      <td>0</td>\n",
       "      <td>0</td>\n",
       "      <td>0</td>\n",
       "      <td>1</td>\n",
       "      <td>0</td>\n",
       "    </tr>\n",
       "    <tr>\n",
       "      <th>14809</th>\n",
       "      <td>25</td>\n",
       "      <td>0</td>\n",
       "      <td>1</td>\n",
       "      <td>0</td>\n",
       "      <td>1</td>\n",
       "      <td>0</td>\n",
       "      <td>0</td>\n",
       "      <td>1</td>\n",
       "      <td>0</td>\n",
       "      <td>0</td>\n",
       "      <td>...</td>\n",
       "      <td>1</td>\n",
       "      <td>0</td>\n",
       "      <td>0</td>\n",
       "      <td>1</td>\n",
       "      <td>0</td>\n",
       "      <td>0</td>\n",
       "      <td>1</td>\n",
       "      <td>0</td>\n",
       "      <td>0</td>\n",
       "      <td>0</td>\n",
       "    </tr>\n",
       "    <tr>\n",
       "      <th>14810</th>\n",
       "      <td>2</td>\n",
       "      <td>1</td>\n",
       "      <td>0</td>\n",
       "      <td>0</td>\n",
       "      <td>0</td>\n",
       "      <td>1</td>\n",
       "      <td>0</td>\n",
       "      <td>1</td>\n",
       "      <td>0</td>\n",
       "      <td>0</td>\n",
       "      <td>...</td>\n",
       "      <td>0</td>\n",
       "      <td>1</td>\n",
       "      <td>0</td>\n",
       "      <td>1</td>\n",
       "      <td>0</td>\n",
       "      <td>0</td>\n",
       "      <td>0</td>\n",
       "      <td>0</td>\n",
       "      <td>1</td>\n",
       "      <td>0</td>\n",
       "    </tr>\n",
       "    <tr>\n",
       "      <th>14811</th>\n",
       "      <td>17</td>\n",
       "      <td>1</td>\n",
       "      <td>0</td>\n",
       "      <td>0</td>\n",
       "      <td>0</td>\n",
       "      <td>1</td>\n",
       "      <td>1</td>\n",
       "      <td>0</td>\n",
       "      <td>0</td>\n",
       "      <td>1</td>\n",
       "      <td>...</td>\n",
       "      <td>1</td>\n",
       "      <td>0</td>\n",
       "      <td>0</td>\n",
       "      <td>1</td>\n",
       "      <td>0</td>\n",
       "      <td>0</td>\n",
       "      <td>0</td>\n",
       "      <td>0</td>\n",
       "      <td>0</td>\n",
       "      <td>1</td>\n",
       "    </tr>\n",
       "  </tbody>\n",
       "</table>\n",
       "<p>14812 rows × 22 columns</p>\n",
       "</div>"
      ],
      "text/plain": [
       "       imagePath  age_20-25  age_25-30  age_30-35  gender_female  gender_male  \\\n",
       "0              1          1          0          0              0            1   \n",
       "1             11          1          0          0              0            1   \n",
       "2             17          1          0          0              0            1   \n",
       "3              7          1          0          0              0            1   \n",
       "4              9          1          0          0              0            1   \n",
       "...          ...        ...        ...        ...            ...          ...   \n",
       "14807         23          0          1          0              1            0   \n",
       "14808         42          0          0          1              0            1   \n",
       "14809         25          0          1          0              1            0   \n",
       "14810          2          1          0          0              0            1   \n",
       "14811         17          1          0          0              0            1   \n",
       "\n",
       "       isMarried_False  isMarried_True  race_Muslim  race_Sinhala  ...  \\\n",
       "0                    1               0            0             1  ...   \n",
       "1                    1               0            0             1  ...   \n",
       "2                    1               0            0             0  ...   \n",
       "3                    1               0            0             0  ...   \n",
       "4                    1               0            0             1  ...   \n",
       "...                ...             ...          ...           ...  ...   \n",
       "14807                0               1            0             0  ...   \n",
       "14808                0               1            0             1  ...   \n",
       "14809                0               1            0             0  ...   \n",
       "14810                0               1            0             0  ...   \n",
       "14811                1               0            0             1  ...   \n",
       "\n",
       "       religion_Catholic  religion_Hindu  religion_Islam  priceRange_0-2000  \\\n",
       "0                      0               0               0                  1   \n",
       "1                      0               0               0                  1   \n",
       "2                      1               0               0                  1   \n",
       "3                      0               1               0                  1   \n",
       "4                      1               0               0                  1   \n",
       "...                  ...             ...             ...                ...   \n",
       "14807                  0               1               0                  1   \n",
       "14808                  1               0               0                  0   \n",
       "14809                  1               0               0                  1   \n",
       "14810                  0               1               0                  1   \n",
       "14811                  1               0               0                  1   \n",
       "\n",
       "       priceRange_2000-4000  district_Colombo  district_Gampaha  \\\n",
       "0                         0                 1                 0   \n",
       "1                         0                 0                 0   \n",
       "2                         0                 0                 1   \n",
       "3                         0                 0                 0   \n",
       "4                         0                 0                 0   \n",
       "...                     ...               ...               ...   \n",
       "14807                     0                 0                 1   \n",
       "14808                     1                 0                 0   \n",
       "14809                     0                 0                 1   \n",
       "14810                     0                 0                 0   \n",
       "14811                     0                 0                 0   \n",
       "\n",
       "       district_Kalutara  district_Kandy  district_Kurunegala  \n",
       "0                      0               0                    0  \n",
       "1                      1               0                    0  \n",
       "2                      0               0                    0  \n",
       "3                      0               0                    1  \n",
       "4                      0               0                    1  \n",
       "...                  ...             ...                  ...  \n",
       "14807                  0               0                    0  \n",
       "14808                  0               1                    0  \n",
       "14809                  0               0                    0  \n",
       "14810                  0               1                    0  \n",
       "14811                  0               0                    1  \n",
       "\n",
       "[14812 rows x 22 columns]"
      ]
     },
     "execution_count": 9,
     "metadata": {},
     "output_type": "execute_result"
    }
   ],
   "source": [
    "newdata"
   ]
  },
  {
   "cell_type": "code",
   "execution_count": 57,
   "metadata": {
    "execution": {
     "iopub.execute_input": "2023-08-07T15:57:43.989890Z",
     "iopub.status.busy": "2023-08-07T15:57:43.989302Z",
     "iopub.status.idle": "2023-08-07T15:57:44.025094Z",
     "shell.execute_reply": "2023-08-07T15:57:44.023723Z",
     "shell.execute_reply.started": "2023-08-07T15:57:43.989846Z"
    }
   },
   "outputs": [
    {
     "name": "stdout",
     "output_type": "stream",
     "text": [
      "      imagePath  age_20-25  age_25-30  age_30-35  gender_female  gender_male  \\\n",
      "0             1          1          0          0              0            1   \n",
      "1            11          1          0          0              0            1   \n",
      "2            17          1          0          0              0            1   \n",
      "3             7          1          0          0              0            1   \n",
      "4             9          1          0          0              0            1   \n",
      "...         ...        ...        ...        ...            ...          ...   \n",
      "2399         48          0          1          0              0            1   \n",
      "2400         18          1          0          0              0            1   \n",
      "2401         11          1          0          0              0            1   \n",
      "2402         38          0          0          1              1            0   \n",
      "2403          2          1          0          0              0            1   \n",
      "\n",
      "      isMarried_False  isMarried_True  race_Muslim  race_Sinhala  ...  \\\n",
      "0                   1               0            0             1  ...   \n",
      "1                   1               0            0             1  ...   \n",
      "2                   1               0            0             0  ...   \n",
      "3                   1               0            0             0  ...   \n",
      "4                   1               0            0             1  ...   \n",
      "...               ...             ...          ...           ...  ...   \n",
      "2399                1               0            0             1  ...   \n",
      "2400                0               1            0             1  ...   \n",
      "2401                0               1            0             1  ...   \n",
      "2402                1               0            0             0  ...   \n",
      "2403                0               1            0             0  ...   \n",
      "\n",
      "      religion_Catholic  religion_Hindu  religion_Islam  priceRange_0-2000  \\\n",
      "0                     0               0               0                  1   \n",
      "1                     0               0               0                  1   \n",
      "2                     1               0               0                  1   \n",
      "3                     0               1               0                  1   \n",
      "4                     1               0               0                  1   \n",
      "...                 ...             ...             ...                ...   \n",
      "2399                  0               0               0                  1   \n",
      "2400                  1               0               0                  1   \n",
      "2401                  1               0               0                  1   \n",
      "2402                  1               0               0                  1   \n",
      "2403                  0               1               0                  1   \n",
      "\n",
      "      priceRange_2000-4000  district_Colombo  district_Gampaha  \\\n",
      "0                        0                 1                 0   \n",
      "1                        0                 0                 0   \n",
      "2                        0                 0                 1   \n",
      "3                        0                 0                 0   \n",
      "4                        0                 0                 0   \n",
      "...                    ...               ...               ...   \n",
      "2399                     0                 0                 1   \n",
      "2400                     0                 0                 0   \n",
      "2401                     0                 0                 0   \n",
      "2402                     0                 0                 0   \n",
      "2403                     0                 0                 0   \n",
      "\n",
      "      district_Kalutara  district_Kandy  district_Kurunegala  \n",
      "0                     0               0                    0  \n",
      "1                     1               0                    0  \n",
      "2                     0               0                    0  \n",
      "3                     0               0                    1  \n",
      "4                     0               0                    1  \n",
      "...                 ...             ...                  ...  \n",
      "2399                  0               0                    0  \n",
      "2400                  0               0                    1  \n",
      "2401                  0               1                    0  \n",
      "2402                  0               0                    1  \n",
      "2403                  0               1                    0  \n",
      "\n",
      "[2404 rows x 22 columns]\n"
     ]
    }
   ],
   "source": [
    "# Identify and remove duplicate rows\n",
    "df_updated = newdata.drop_duplicates()\n",
    "\n",
    "# Reset the row index\n",
    "df_updated.reset_index(drop=True, inplace=True)\n",
    "\n",
    "# Print the DataFrame with reset index\n",
    "print(df_updated)"
   ]
  },
  {
   "cell_type": "code",
   "execution_count": 11,
   "metadata": {
    "execution": {
     "iopub.execute_input": "2023-08-07T14:45:48.371995Z",
     "iopub.status.busy": "2023-08-07T14:45:48.371403Z",
     "iopub.status.idle": "2023-08-07T14:45:48.382547Z",
     "shell.execute_reply": "2023-08-07T14:45:48.380792Z",
     "shell.execute_reply.started": "2023-08-07T14:45:48.371949Z"
    }
   },
   "outputs": [
    {
     "data": {
      "text/plain": [
       "Index(['imagePath', 'age_20-25', 'age_25-30', 'age_30-35', 'gender_female',\n",
       "       'gender_male', 'isMarried_False', 'isMarried_True', 'race_Muslim',\n",
       "       'race_Sinhala', 'race_Tamil', 'religion_Buddhism', 'religion_Catholic',\n",
       "       'religion_Hindu', 'religion_Islam', 'priceRange_0-2000',\n",
       "       'priceRange_2000-4000', 'district_Colombo', 'district_Gampaha',\n",
       "       'district_Kalutara', 'district_Kandy', 'district_Kurunegala'],\n",
       "      dtype='object')"
      ]
     },
     "execution_count": 11,
     "metadata": {},
     "output_type": "execute_result"
    }
   ],
   "source": [
    "df_updated.columns"
   ]
  },
  {
   "cell_type": "code",
   "execution_count": 12,
   "metadata": {
    "execution": {
     "iopub.execute_input": "2023-08-07T14:46:53.360465Z",
     "iopub.status.busy": "2023-08-07T14:46:53.360064Z",
     "iopub.status.idle": "2023-08-07T14:46:53.385450Z",
     "shell.execute_reply": "2023-08-07T14:46:53.383996Z",
     "shell.execute_reply.started": "2023-08-07T14:46:53.360431Z"
    }
   },
   "outputs": [
    {
     "data": {
      "text/html": [
       "<div>\n",
       "<style scoped>\n",
       "    .dataframe tbody tr th:only-of-type {\n",
       "        vertical-align: middle;\n",
       "    }\n",
       "\n",
       "    .dataframe tbody tr th {\n",
       "        vertical-align: top;\n",
       "    }\n",
       "\n",
       "    .dataframe thead th {\n",
       "        text-align: right;\n",
       "    }\n",
       "</style>\n",
       "<table border=\"1\" class=\"dataframe\">\n",
       "  <thead>\n",
       "    <tr style=\"text-align: right;\">\n",
       "      <th></th>\n",
       "      <th>imagePath</th>\n",
       "      <th>age_20-25</th>\n",
       "      <th>age_25-30</th>\n",
       "      <th>age_30-35</th>\n",
       "      <th>gender_female</th>\n",
       "      <th>gender_male</th>\n",
       "      <th>isMarried_False</th>\n",
       "      <th>isMarried_True</th>\n",
       "      <th>race_Muslim</th>\n",
       "      <th>race_Sinhala</th>\n",
       "      <th>...</th>\n",
       "      <th>religion_Catholic</th>\n",
       "      <th>religion_Hindu</th>\n",
       "      <th>religion_Islam</th>\n",
       "      <th>priceRange_0-2000</th>\n",
       "      <th>priceRange_2000-4000</th>\n",
       "      <th>district_Colombo</th>\n",
       "      <th>district_Gampaha</th>\n",
       "      <th>district_Kalutara</th>\n",
       "      <th>district_Kandy</th>\n",
       "      <th>district_Kurunegala</th>\n",
       "    </tr>\n",
       "  </thead>\n",
       "  <tbody>\n",
       "    <tr>\n",
       "      <th>0</th>\n",
       "      <td>1</td>\n",
       "      <td>1</td>\n",
       "      <td>0</td>\n",
       "      <td>0</td>\n",
       "      <td>0</td>\n",
       "      <td>1</td>\n",
       "      <td>1</td>\n",
       "      <td>0</td>\n",
       "      <td>0</td>\n",
       "      <td>1</td>\n",
       "      <td>...</td>\n",
       "      <td>0</td>\n",
       "      <td>0</td>\n",
       "      <td>0</td>\n",
       "      <td>1</td>\n",
       "      <td>0</td>\n",
       "      <td>1</td>\n",
       "      <td>0</td>\n",
       "      <td>0</td>\n",
       "      <td>0</td>\n",
       "      <td>0</td>\n",
       "    </tr>\n",
       "    <tr>\n",
       "      <th>1</th>\n",
       "      <td>11</td>\n",
       "      <td>1</td>\n",
       "      <td>0</td>\n",
       "      <td>0</td>\n",
       "      <td>0</td>\n",
       "      <td>1</td>\n",
       "      <td>1</td>\n",
       "      <td>0</td>\n",
       "      <td>0</td>\n",
       "      <td>1</td>\n",
       "      <td>...</td>\n",
       "      <td>0</td>\n",
       "      <td>0</td>\n",
       "      <td>0</td>\n",
       "      <td>1</td>\n",
       "      <td>0</td>\n",
       "      <td>0</td>\n",
       "      <td>0</td>\n",
       "      <td>1</td>\n",
       "      <td>0</td>\n",
       "      <td>0</td>\n",
       "    </tr>\n",
       "    <tr>\n",
       "      <th>2</th>\n",
       "      <td>17</td>\n",
       "      <td>1</td>\n",
       "      <td>0</td>\n",
       "      <td>0</td>\n",
       "      <td>0</td>\n",
       "      <td>1</td>\n",
       "      <td>1</td>\n",
       "      <td>0</td>\n",
       "      <td>0</td>\n",
       "      <td>0</td>\n",
       "      <td>...</td>\n",
       "      <td>1</td>\n",
       "      <td>0</td>\n",
       "      <td>0</td>\n",
       "      <td>1</td>\n",
       "      <td>0</td>\n",
       "      <td>0</td>\n",
       "      <td>1</td>\n",
       "      <td>0</td>\n",
       "      <td>0</td>\n",
       "      <td>0</td>\n",
       "    </tr>\n",
       "    <tr>\n",
       "      <th>3</th>\n",
       "      <td>7</td>\n",
       "      <td>1</td>\n",
       "      <td>0</td>\n",
       "      <td>0</td>\n",
       "      <td>0</td>\n",
       "      <td>1</td>\n",
       "      <td>1</td>\n",
       "      <td>0</td>\n",
       "      <td>0</td>\n",
       "      <td>0</td>\n",
       "      <td>...</td>\n",
       "      <td>0</td>\n",
       "      <td>1</td>\n",
       "      <td>0</td>\n",
       "      <td>1</td>\n",
       "      <td>0</td>\n",
       "      <td>0</td>\n",
       "      <td>0</td>\n",
       "      <td>0</td>\n",
       "      <td>0</td>\n",
       "      <td>1</td>\n",
       "    </tr>\n",
       "    <tr>\n",
       "      <th>4</th>\n",
       "      <td>9</td>\n",
       "      <td>1</td>\n",
       "      <td>0</td>\n",
       "      <td>0</td>\n",
       "      <td>0</td>\n",
       "      <td>1</td>\n",
       "      <td>1</td>\n",
       "      <td>0</td>\n",
       "      <td>0</td>\n",
       "      <td>1</td>\n",
       "      <td>...</td>\n",
       "      <td>1</td>\n",
       "      <td>0</td>\n",
       "      <td>0</td>\n",
       "      <td>1</td>\n",
       "      <td>0</td>\n",
       "      <td>0</td>\n",
       "      <td>0</td>\n",
       "      <td>0</td>\n",
       "      <td>0</td>\n",
       "      <td>1</td>\n",
       "    </tr>\n",
       "  </tbody>\n",
       "</table>\n",
       "<p>5 rows × 22 columns</p>\n",
       "</div>"
      ],
      "text/plain": [
       "   imagePath  age_20-25  age_25-30  age_30-35  gender_female  gender_male  \\\n",
       "0          1          1          0          0              0            1   \n",
       "1         11          1          0          0              0            1   \n",
       "2         17          1          0          0              0            1   \n",
       "3          7          1          0          0              0            1   \n",
       "4          9          1          0          0              0            1   \n",
       "\n",
       "   isMarried_False  isMarried_True  race_Muslim  race_Sinhala  ...  \\\n",
       "0                1               0            0             1  ...   \n",
       "1                1               0            0             1  ...   \n",
       "2                1               0            0             0  ...   \n",
       "3                1               0            0             0  ...   \n",
       "4                1               0            0             1  ...   \n",
       "\n",
       "   religion_Catholic  religion_Hindu  religion_Islam  priceRange_0-2000  \\\n",
       "0                  0               0               0                  1   \n",
       "1                  0               0               0                  1   \n",
       "2                  1               0               0                  1   \n",
       "3                  0               1               0                  1   \n",
       "4                  1               0               0                  1   \n",
       "\n",
       "   priceRange_2000-4000  district_Colombo  district_Gampaha  \\\n",
       "0                     0                 1                 0   \n",
       "1                     0                 0                 0   \n",
       "2                     0                 0                 1   \n",
       "3                     0                 0                 0   \n",
       "4                     0                 0                 0   \n",
       "\n",
       "   district_Kalutara  district_Kandy  district_Kurunegala  \n",
       "0                  0               0                    0  \n",
       "1                  1               0                    0  \n",
       "2                  0               0                    0  \n",
       "3                  0               0                    1  \n",
       "4                  0               0                    1  \n",
       "\n",
       "[5 rows x 22 columns]"
      ]
     },
     "execution_count": 12,
     "metadata": {},
     "output_type": "execute_result"
    }
   ],
   "source": [
    "df_updated.head()"
   ]
  },
  {
   "cell_type": "code",
   "execution_count": 58,
   "metadata": {
    "execution": {
     "iopub.execute_input": "2023-08-07T15:58:00.006079Z",
     "iopub.status.busy": "2023-08-07T15:58:00.005575Z",
     "iopub.status.idle": "2023-08-07T15:58:00.017162Z",
     "shell.execute_reply": "2023-08-07T15:58:00.014866Z",
     "shell.execute_reply.started": "2023-08-07T15:58:00.006037Z"
    }
   },
   "outputs": [],
   "source": [
    "columns_to_delete = ['priceRange_0-2000', 'priceRange_2000-4000',\n",
    "       'district_Colombo', 'district_Gampaha', 'district_Kalutara',\n",
    "       'district_Kandy', 'district_Kurunegala']\n",
    "df_updated = df_updated.drop(columns_to_delete, axis=1)"
   ]
  },
  {
   "cell_type": "code",
   "execution_count": 59,
   "metadata": {},
   "outputs": [
    {
     "data": {
      "text/plain": [
       "Index(['imagePath', 'age_20-25', 'age_25-30', 'age_30-35', 'gender_female',\n",
       "       'gender_male', 'isMarried_False', 'isMarried_True', 'race_Muslim',\n",
       "       'race_Sinhala', 'race_Tamil', 'religion_Buddhism', 'religion_Catholic',\n",
       "       'religion_Hindu', 'religion_Islam'],\n",
       "      dtype='object')"
      ]
     },
     "execution_count": 59,
     "metadata": {},
     "output_type": "execute_result"
    }
   ],
   "source": [
    "df_updated.columns"
   ]
  },
  {
   "cell_type": "code",
   "execution_count": 61,
   "metadata": {
    "execution": {
     "iopub.execute_input": "2023-08-07T15:58:14.374427Z",
     "iopub.status.busy": "2023-08-07T15:58:14.373957Z",
     "iopub.status.idle": "2023-08-07T15:58:14.397876Z",
     "shell.execute_reply": "2023-08-07T15:58:14.396430Z",
     "shell.execute_reply.started": "2023-08-07T15:58:14.374387Z"
    }
   },
   "outputs": [
    {
     "data": {
      "text/html": [
       "<div>\n",
       "<style scoped>\n",
       "    .dataframe tbody tr th:only-of-type {\n",
       "        vertical-align: middle;\n",
       "    }\n",
       "\n",
       "    .dataframe tbody tr th {\n",
       "        vertical-align: top;\n",
       "    }\n",
       "\n",
       "    .dataframe thead th {\n",
       "        text-align: right;\n",
       "    }\n",
       "</style>\n",
       "<table border=\"1\" class=\"dataframe\">\n",
       "  <thead>\n",
       "    <tr style=\"text-align: right;\">\n",
       "      <th></th>\n",
       "      <th>imagePath</th>\n",
       "      <th>age_20-25</th>\n",
       "      <th>age_25-30</th>\n",
       "      <th>age_30-35</th>\n",
       "      <th>gender_female</th>\n",
       "      <th>gender_male</th>\n",
       "      <th>isMarried_False</th>\n",
       "      <th>isMarried_True</th>\n",
       "      <th>race_Muslim</th>\n",
       "      <th>race_Sinhala</th>\n",
       "      <th>race_Tamil</th>\n",
       "      <th>religion_Buddhism</th>\n",
       "      <th>religion_Catholic</th>\n",
       "      <th>religion_Hindu</th>\n",
       "      <th>religion_Islam</th>\n",
       "    </tr>\n",
       "  </thead>\n",
       "  <tbody>\n",
       "    <tr>\n",
       "      <th>0</th>\n",
       "      <td>1</td>\n",
       "      <td>1</td>\n",
       "      <td>0</td>\n",
       "      <td>0</td>\n",
       "      <td>0</td>\n",
       "      <td>1</td>\n",
       "      <td>1</td>\n",
       "      <td>0</td>\n",
       "      <td>0</td>\n",
       "      <td>1</td>\n",
       "      <td>0</td>\n",
       "      <td>1</td>\n",
       "      <td>0</td>\n",
       "      <td>0</td>\n",
       "      <td>0</td>\n",
       "    </tr>\n",
       "    <tr>\n",
       "      <th>1</th>\n",
       "      <td>11</td>\n",
       "      <td>1</td>\n",
       "      <td>0</td>\n",
       "      <td>0</td>\n",
       "      <td>0</td>\n",
       "      <td>1</td>\n",
       "      <td>1</td>\n",
       "      <td>0</td>\n",
       "      <td>0</td>\n",
       "      <td>1</td>\n",
       "      <td>0</td>\n",
       "      <td>1</td>\n",
       "      <td>0</td>\n",
       "      <td>0</td>\n",
       "      <td>0</td>\n",
       "    </tr>\n",
       "    <tr>\n",
       "      <th>2</th>\n",
       "      <td>17</td>\n",
       "      <td>1</td>\n",
       "      <td>0</td>\n",
       "      <td>0</td>\n",
       "      <td>0</td>\n",
       "      <td>1</td>\n",
       "      <td>1</td>\n",
       "      <td>0</td>\n",
       "      <td>0</td>\n",
       "      <td>0</td>\n",
       "      <td>1</td>\n",
       "      <td>0</td>\n",
       "      <td>1</td>\n",
       "      <td>0</td>\n",
       "      <td>0</td>\n",
       "    </tr>\n",
       "    <tr>\n",
       "      <th>3</th>\n",
       "      <td>7</td>\n",
       "      <td>1</td>\n",
       "      <td>0</td>\n",
       "      <td>0</td>\n",
       "      <td>0</td>\n",
       "      <td>1</td>\n",
       "      <td>1</td>\n",
       "      <td>0</td>\n",
       "      <td>0</td>\n",
       "      <td>0</td>\n",
       "      <td>1</td>\n",
       "      <td>0</td>\n",
       "      <td>0</td>\n",
       "      <td>1</td>\n",
       "      <td>0</td>\n",
       "    </tr>\n",
       "    <tr>\n",
       "      <th>4</th>\n",
       "      <td>9</td>\n",
       "      <td>1</td>\n",
       "      <td>0</td>\n",
       "      <td>0</td>\n",
       "      <td>0</td>\n",
       "      <td>1</td>\n",
       "      <td>1</td>\n",
       "      <td>0</td>\n",
       "      <td>0</td>\n",
       "      <td>1</td>\n",
       "      <td>0</td>\n",
       "      <td>0</td>\n",
       "      <td>1</td>\n",
       "      <td>0</td>\n",
       "      <td>0</td>\n",
       "    </tr>\n",
       "    <tr>\n",
       "      <th>...</th>\n",
       "      <td>...</td>\n",
       "      <td>...</td>\n",
       "      <td>...</td>\n",
       "      <td>...</td>\n",
       "      <td>...</td>\n",
       "      <td>...</td>\n",
       "      <td>...</td>\n",
       "      <td>...</td>\n",
       "      <td>...</td>\n",
       "      <td>...</td>\n",
       "      <td>...</td>\n",
       "      <td>...</td>\n",
       "      <td>...</td>\n",
       "      <td>...</td>\n",
       "      <td>...</td>\n",
       "    </tr>\n",
       "    <tr>\n",
       "      <th>2399</th>\n",
       "      <td>48</td>\n",
       "      <td>0</td>\n",
       "      <td>1</td>\n",
       "      <td>0</td>\n",
       "      <td>0</td>\n",
       "      <td>1</td>\n",
       "      <td>1</td>\n",
       "      <td>0</td>\n",
       "      <td>0</td>\n",
       "      <td>1</td>\n",
       "      <td>0</td>\n",
       "      <td>1</td>\n",
       "      <td>0</td>\n",
       "      <td>0</td>\n",
       "      <td>0</td>\n",
       "    </tr>\n",
       "    <tr>\n",
       "      <th>2400</th>\n",
       "      <td>18</td>\n",
       "      <td>1</td>\n",
       "      <td>0</td>\n",
       "      <td>0</td>\n",
       "      <td>0</td>\n",
       "      <td>1</td>\n",
       "      <td>0</td>\n",
       "      <td>1</td>\n",
       "      <td>0</td>\n",
       "      <td>1</td>\n",
       "      <td>0</td>\n",
       "      <td>0</td>\n",
       "      <td>1</td>\n",
       "      <td>0</td>\n",
       "      <td>0</td>\n",
       "    </tr>\n",
       "    <tr>\n",
       "      <th>2401</th>\n",
       "      <td>11</td>\n",
       "      <td>1</td>\n",
       "      <td>0</td>\n",
       "      <td>0</td>\n",
       "      <td>0</td>\n",
       "      <td>1</td>\n",
       "      <td>0</td>\n",
       "      <td>1</td>\n",
       "      <td>0</td>\n",
       "      <td>1</td>\n",
       "      <td>0</td>\n",
       "      <td>0</td>\n",
       "      <td>1</td>\n",
       "      <td>0</td>\n",
       "      <td>0</td>\n",
       "    </tr>\n",
       "    <tr>\n",
       "      <th>2402</th>\n",
       "      <td>38</td>\n",
       "      <td>0</td>\n",
       "      <td>0</td>\n",
       "      <td>1</td>\n",
       "      <td>1</td>\n",
       "      <td>0</td>\n",
       "      <td>1</td>\n",
       "      <td>0</td>\n",
       "      <td>0</td>\n",
       "      <td>0</td>\n",
       "      <td>1</td>\n",
       "      <td>0</td>\n",
       "      <td>1</td>\n",
       "      <td>0</td>\n",
       "      <td>0</td>\n",
       "    </tr>\n",
       "    <tr>\n",
       "      <th>2403</th>\n",
       "      <td>2</td>\n",
       "      <td>1</td>\n",
       "      <td>0</td>\n",
       "      <td>0</td>\n",
       "      <td>0</td>\n",
       "      <td>1</td>\n",
       "      <td>0</td>\n",
       "      <td>1</td>\n",
       "      <td>0</td>\n",
       "      <td>0</td>\n",
       "      <td>1</td>\n",
       "      <td>0</td>\n",
       "      <td>0</td>\n",
       "      <td>1</td>\n",
       "      <td>0</td>\n",
       "    </tr>\n",
       "  </tbody>\n",
       "</table>\n",
       "<p>2404 rows × 15 columns</p>\n",
       "</div>"
      ],
      "text/plain": [
       "      imagePath  age_20-25  age_25-30  age_30-35  gender_female  gender_male  \\\n",
       "0             1          1          0          0              0            1   \n",
       "1            11          1          0          0              0            1   \n",
       "2            17          1          0          0              0            1   \n",
       "3             7          1          0          0              0            1   \n",
       "4             9          1          0          0              0            1   \n",
       "...         ...        ...        ...        ...            ...          ...   \n",
       "2399         48          0          1          0              0            1   \n",
       "2400         18          1          0          0              0            1   \n",
       "2401         11          1          0          0              0            1   \n",
       "2402         38          0          0          1              1            0   \n",
       "2403          2          1          0          0              0            1   \n",
       "\n",
       "      isMarried_False  isMarried_True  race_Muslim  race_Sinhala  race_Tamil  \\\n",
       "0                   1               0            0             1           0   \n",
       "1                   1               0            0             1           0   \n",
       "2                   1               0            0             0           1   \n",
       "3                   1               0            0             0           1   \n",
       "4                   1               0            0             1           0   \n",
       "...               ...             ...          ...           ...         ...   \n",
       "2399                1               0            0             1           0   \n",
       "2400                0               1            0             1           0   \n",
       "2401                0               1            0             1           0   \n",
       "2402                1               0            0             0           1   \n",
       "2403                0               1            0             0           1   \n",
       "\n",
       "      religion_Buddhism  religion_Catholic  religion_Hindu  religion_Islam  \n",
       "0                     1                  0               0               0  \n",
       "1                     1                  0               0               0  \n",
       "2                     0                  1               0               0  \n",
       "3                     0                  0               1               0  \n",
       "4                     0                  1               0               0  \n",
       "...                 ...                ...             ...             ...  \n",
       "2399                  1                  0               0               0  \n",
       "2400                  0                  1               0               0  \n",
       "2401                  0                  1               0               0  \n",
       "2402                  0                  1               0               0  \n",
       "2403                  0                  0               1               0  \n",
       "\n",
       "[2404 rows x 15 columns]"
      ]
     },
     "execution_count": 61,
     "metadata": {},
     "output_type": "execute_result"
    }
   ],
   "source": [
    "df_updated"
   ]
  },
  {
   "cell_type": "code",
   "execution_count": 62,
   "metadata": {
    "execution": {
     "iopub.execute_input": "2023-08-07T15:58:19.473011Z",
     "iopub.status.busy": "2023-08-07T15:58:19.472575Z",
     "iopub.status.idle": "2023-08-07T15:58:56.019662Z",
     "shell.execute_reply": "2023-08-07T15:58:56.016829Z",
     "shell.execute_reply.started": "2023-08-07T15:58:19.472977Z"
    }
   },
   "outputs": [
    {
     "name": "stderr",
     "output_type": "stream",
     "text": [
      "  0%|          | 1/240 [00:00<00:48,  4.96it/s]"
     ]
    },
    {
     "name": "stdout",
     "output_type": "stream",
     "text": [
      "Batch 0 processed\n"
     ]
    },
    {
     "name": "stderr",
     "output_type": "stream",
     "text": [
      "  1%|▏         | 3/240 [00:00<00:46,  5.07it/s]"
     ]
    },
    {
     "name": "stdout",
     "output_type": "stream",
     "text": [
      "Batch 1 processed\n",
      "Batch 2 processed\n"
     ]
    },
    {
     "name": "stderr",
     "output_type": "stream",
     "text": [
      "  2%|▏         | 5/240 [00:00<00:34,  6.80it/s]"
     ]
    },
    {
     "name": "stdout",
     "output_type": "stream",
     "text": [
      "Batch 3 processed\n",
      "Batch 4 processed\n"
     ]
    },
    {
     "name": "stderr",
     "output_type": "stream",
     "text": [
      "  3%|▎         | 7/240 [00:01<00:34,  6.85it/s]"
     ]
    },
    {
     "name": "stdout",
     "output_type": "stream",
     "text": [
      "Batch 5 processed\n",
      "Batch 6 processed\n"
     ]
    },
    {
     "name": "stderr",
     "output_type": "stream",
     "text": [
      "  4%|▍         | 10/240 [00:01<00:26,  8.75it/s]"
     ]
    },
    {
     "name": "stdout",
     "output_type": "stream",
     "text": [
      "Batch 7 processed\n",
      "Batch 8 processed\n",
      "Batch 9 processed\n"
     ]
    },
    {
     "name": "stderr",
     "output_type": "stream",
     "text": [
      "  5%|▌         | 12/240 [00:01<00:31,  7.23it/s]"
     ]
    },
    {
     "name": "stdout",
     "output_type": "stream",
     "text": [
      "Batch 10 processed\n",
      "Batch 11 processed\n"
     ]
    },
    {
     "name": "stderr",
     "output_type": "stream",
     "text": [
      "  6%|▌         | 14/240 [00:02<00:31,  7.15it/s]"
     ]
    },
    {
     "name": "stdout",
     "output_type": "stream",
     "text": [
      "Batch 12 processed\n",
      "Batch 13 processed\n"
     ]
    },
    {
     "name": "stderr",
     "output_type": "stream",
     "text": [
      "  6%|▋         | 15/240 [00:02<00:31,  7.16it/s]"
     ]
    },
    {
     "name": "stdout",
     "output_type": "stream",
     "text": [
      "Batch 14 processed\n"
     ]
    },
    {
     "name": "stderr",
     "output_type": "stream",
     "text": [
      "  7%|▋         | 17/240 [00:02<00:35,  6.33it/s]"
     ]
    },
    {
     "name": "stdout",
     "output_type": "stream",
     "text": [
      "Batch 15 processed\n",
      "Batch 16 processed\n"
     ]
    },
    {
     "name": "stderr",
     "output_type": "stream",
     "text": [
      "  8%|▊         | 18/240 [00:02<00:39,  5.64it/s]"
     ]
    },
    {
     "name": "stdout",
     "output_type": "stream",
     "text": [
      "Batch 17 processed\n",
      "Batch 18 processed\n"
     ]
    },
    {
     "name": "stderr",
     "output_type": "stream",
     "text": [
      "  9%|▉         | 21/240 [00:03<00:32,  6.64it/s]"
     ]
    },
    {
     "name": "stdout",
     "output_type": "stream",
     "text": [
      "Batch 19 processed\n",
      "Batch 20 processed\n"
     ]
    },
    {
     "name": "stderr",
     "output_type": "stream",
     "text": [
      " 10%|▉         | 23/240 [00:03<00:34,  6.33it/s]"
     ]
    },
    {
     "name": "stdout",
     "output_type": "stream",
     "text": [
      "Batch 21 processed\n",
      "Batch 22 processed\n"
     ]
    },
    {
     "name": "stderr",
     "output_type": "stream",
     "text": [
      " 10%|█         | 25/240 [00:03<00:31,  6.81it/s]"
     ]
    },
    {
     "name": "stdout",
     "output_type": "stream",
     "text": [
      "Batch 23 processed\n",
      "Batch 24 processed\n"
     ]
    },
    {
     "name": "stderr",
     "output_type": "stream",
     "text": [
      " 11%|█▏        | 27/240 [00:04<00:33,  6.39it/s]"
     ]
    },
    {
     "name": "stdout",
     "output_type": "stream",
     "text": [
      "Batch 25 processed\n",
      "Batch 26 processed\n"
     ]
    },
    {
     "name": "stderr",
     "output_type": "stream",
     "text": [
      " 12%|█▏        | 29/240 [00:04<00:30,  6.91it/s]"
     ]
    },
    {
     "name": "stdout",
     "output_type": "stream",
     "text": [
      "Batch 27 processed\n",
      "Batch 28 processed\n"
     ]
    },
    {
     "name": "stderr",
     "output_type": "stream",
     "text": [
      " 13%|█▎        | 31/240 [00:04<00:28,  7.41it/s]"
     ]
    },
    {
     "name": "stdout",
     "output_type": "stream",
     "text": [
      "Batch 29 processed\n",
      "Batch 30 processed\n"
     ]
    },
    {
     "name": "stderr",
     "output_type": "stream",
     "text": [
      " 13%|█▎        | 32/240 [00:04<00:30,  6.75it/s]"
     ]
    },
    {
     "name": "stdout",
     "output_type": "stream",
     "text": [
      "Batch 31 processed\n",
      "Batch 32 processed\n"
     ]
    },
    {
     "name": "stderr",
     "output_type": "stream",
     "text": [
      " 15%|█▌        | 36/240 [00:05<00:23,  8.59it/s]"
     ]
    },
    {
     "name": "stdout",
     "output_type": "stream",
     "text": [
      "Batch 33 processed\n",
      "Batch 34 processed\n",
      "Batch 35 processed\n"
     ]
    },
    {
     "name": "stderr",
     "output_type": "stream",
     "text": [
      " 16%|█▌        | 38/240 [00:05<00:25,  7.84it/s]"
     ]
    },
    {
     "name": "stdout",
     "output_type": "stream",
     "text": [
      "Batch 36 processed\n",
      "Batch 37 processed\n",
      "Batch 38 processed\n"
     ]
    },
    {
     "name": "stderr",
     "output_type": "stream",
     "text": [
      " 17%|█▋        | 41/240 [00:05<00:22,  8.87it/s]"
     ]
    },
    {
     "name": "stdout",
     "output_type": "stream",
     "text": [
      "Batch 39 processed\n",
      "Batch 40 processed\n"
     ]
    },
    {
     "name": "stderr",
     "output_type": "stream",
     "text": [
      " 18%|█▊        | 43/240 [00:05<00:20,  9.76it/s]"
     ]
    },
    {
     "name": "stdout",
     "output_type": "stream",
     "text": [
      "Batch 41 processed\n",
      "Batch 42 processed\n",
      "Batch 43 processed\n"
     ]
    },
    {
     "name": "stderr",
     "output_type": "stream",
     "text": [
      " 19%|█▉        | 46/240 [00:06<00:20,  9.44it/s]"
     ]
    },
    {
     "name": "stdout",
     "output_type": "stream",
     "text": [
      "Batch 44 processed\n",
      "Batch 45 processed\n"
     ]
    },
    {
     "name": "stderr",
     "output_type": "stream",
     "text": [
      " 20%|██        | 48/240 [00:06<00:23,  8.08it/s]"
     ]
    },
    {
     "name": "stdout",
     "output_type": "stream",
     "text": [
      "Batch 46 processed\n",
      "Batch 47 processed\n"
     ]
    },
    {
     "name": "stderr",
     "output_type": "stream",
     "text": [
      " 21%|██        | 50/240 [00:06<00:24,  7.75it/s]"
     ]
    },
    {
     "name": "stdout",
     "output_type": "stream",
     "text": [
      "Batch 48 processed\n",
      "Batch 49 processed\n"
     ]
    },
    {
     "name": "stderr",
     "output_type": "stream",
     "text": [
      " 22%|██▏       | 52/240 [00:07<00:24,  7.57it/s]"
     ]
    },
    {
     "name": "stdout",
     "output_type": "stream",
     "text": [
      "Batch 50 processed\n",
      "Batch 51 processed\n"
     ]
    },
    {
     "name": "stderr",
     "output_type": "stream",
     "text": [
      " 22%|██▎       | 54/240 [00:07<00:29,  6.22it/s]"
     ]
    },
    {
     "name": "stdout",
     "output_type": "stream",
     "text": [
      "Batch 52 processed\n",
      "Batch 53 processed\n"
     ]
    },
    {
     "name": "stderr",
     "output_type": "stream",
     "text": [
      " 23%|██▎       | 56/240 [00:07<00:26,  7.05it/s]"
     ]
    },
    {
     "name": "stdout",
     "output_type": "stream",
     "text": [
      "Batch 54 processed\n",
      "Batch 55 processed\n"
     ]
    },
    {
     "name": "stderr",
     "output_type": "stream",
     "text": [
      " 24%|██▍       | 58/240 [00:08<00:24,  7.54it/s]"
     ]
    },
    {
     "name": "stdout",
     "output_type": "stream",
     "text": [
      "Batch 56 processed\n",
      "Batch 57 processed\n"
     ]
    },
    {
     "name": "stderr",
     "output_type": "stream",
     "text": [
      " 25%|██▌       | 60/240 [00:08<00:23,  7.61it/s]"
     ]
    },
    {
     "name": "stdout",
     "output_type": "stream",
     "text": [
      "Batch 58 processed\n",
      "Batch 59 processed\n"
     ]
    },
    {
     "name": "stderr",
     "output_type": "stream",
     "text": [
      " 26%|██▌       | 62/240 [00:08<00:22,  7.92it/s]"
     ]
    },
    {
     "name": "stdout",
     "output_type": "stream",
     "text": [
      "Batch 60 processed\n",
      "Batch 61 processed\n"
     ]
    },
    {
     "name": "stderr",
     "output_type": "stream",
     "text": [
      " 27%|██▋       | 64/240 [00:08<00:24,  7.27it/s]"
     ]
    },
    {
     "name": "stdout",
     "output_type": "stream",
     "text": [
      "Batch 62 processed\n",
      "Batch 63 processed\n"
     ]
    },
    {
     "name": "stderr",
     "output_type": "stream",
     "text": [
      " 28%|██▊       | 66/240 [00:08<00:19,  8.79it/s]"
     ]
    },
    {
     "name": "stdout",
     "output_type": "stream",
     "text": [
      "Batch 64 processed\n",
      "Batch 65 processed\n",
      "Batch 66 processed\n"
     ]
    },
    {
     "name": "stderr",
     "output_type": "stream",
     "text": [
      " 29%|██▉       | 69/240 [00:09<00:21,  8.11it/s]"
     ]
    },
    {
     "name": "stdout",
     "output_type": "stream",
     "text": [
      "Batch 67 processed\n",
      "Batch 68 processed\n"
     ]
    },
    {
     "name": "stderr",
     "output_type": "stream",
     "text": [
      " 30%|██▉       | 71/240 [00:09<00:23,  7.18it/s]"
     ]
    },
    {
     "name": "stdout",
     "output_type": "stream",
     "text": [
      "Batch 69 processed\n",
      "Batch 70 processed\n"
     ]
    },
    {
     "name": "stderr",
     "output_type": "stream",
     "text": [
      " 31%|███       | 74/240 [00:09<00:17,  9.29it/s]"
     ]
    },
    {
     "name": "stdout",
     "output_type": "stream",
     "text": [
      "Batch 71 processed\n",
      "Batch 72 processed\n",
      "Batch 73 processed\n"
     ]
    },
    {
     "name": "stderr",
     "output_type": "stream",
     "text": [
      " 32%|███▏      | 76/240 [00:10<00:16, 10.00it/s]"
     ]
    },
    {
     "name": "stdout",
     "output_type": "stream",
     "text": [
      "Batch 74 processed\n",
      "Batch 75 processed\n"
     ]
    },
    {
     "name": "stderr",
     "output_type": "stream",
     "text": [
      " 32%|███▎      | 78/240 [00:10<00:16,  9.69it/s]"
     ]
    },
    {
     "name": "stdout",
     "output_type": "stream",
     "text": [
      "Batch 76 processed\n",
      "Batch 77 processed\n"
     ]
    },
    {
     "name": "stderr",
     "output_type": "stream",
     "text": [
      " 33%|███▎      | 80/240 [00:10<00:18,  8.47it/s]"
     ]
    },
    {
     "name": "stdout",
     "output_type": "stream",
     "text": [
      "Batch 78 processed\n",
      "Batch 79 processed\n"
     ]
    },
    {
     "name": "stderr",
     "output_type": "stream",
     "text": [
      " 34%|███▍      | 82/240 [00:10<00:18,  8.41it/s]"
     ]
    },
    {
     "name": "stdout",
     "output_type": "stream",
     "text": [
      "Batch 80 processed\n",
      "Batch 81 processed\n"
     ]
    },
    {
     "name": "stderr",
     "output_type": "stream",
     "text": [
      " 35%|███▌      | 84/240 [00:11<00:21,  7.12it/s]"
     ]
    },
    {
     "name": "stdout",
     "output_type": "stream",
     "text": [
      "Batch 82 processed\n",
      "Batch 83 processed\n"
     ]
    },
    {
     "name": "stderr",
     "output_type": "stream",
     "text": [
      " 36%|███▌      | 86/240 [00:11<00:20,  7.58it/s]"
     ]
    },
    {
     "name": "stdout",
     "output_type": "stream",
     "text": [
      "Batch 84 processed\n",
      "Batch 85 processed\n"
     ]
    },
    {
     "name": "stderr",
     "output_type": "stream",
     "text": [
      " 37%|███▋      | 88/240 [00:11<00:21,  6.97it/s]"
     ]
    },
    {
     "name": "stdout",
     "output_type": "stream",
     "text": [
      "Batch 86 processed\n",
      "Batch 87 processed\n"
     ]
    },
    {
     "name": "stderr",
     "output_type": "stream",
     "text": [
      " 38%|███▊      | 90/240 [00:12<00:19,  7.56it/s]"
     ]
    },
    {
     "name": "stdout",
     "output_type": "stream",
     "text": [
      "Batch 88 processed\n",
      "Batch 89 processed\n"
     ]
    },
    {
     "name": "stderr",
     "output_type": "stream",
     "text": [
      " 38%|███▊      | 92/240 [00:12<00:20,  7.10it/s]"
     ]
    },
    {
     "name": "stdout",
     "output_type": "stream",
     "text": [
      "Batch 90 processed\n",
      "Batch 91 processed\n"
     ]
    },
    {
     "name": "stderr",
     "output_type": "stream",
     "text": [
      " 39%|███▉      | 94/240 [00:12<00:20,  7.20it/s]"
     ]
    },
    {
     "name": "stdout",
     "output_type": "stream",
     "text": [
      "Batch 92 processed\n",
      "Batch 93 processed\n"
     ]
    },
    {
     "name": "stderr",
     "output_type": "stream",
     "text": [
      " 40%|████      | 96/240 [00:12<00:23,  6.22it/s]"
     ]
    },
    {
     "name": "stdout",
     "output_type": "stream",
     "text": [
      "Batch 94 processed\n",
      "Batch 95 processed\n"
     ]
    },
    {
     "name": "stderr",
     "output_type": "stream",
     "text": [
      " 41%|████      | 98/240 [00:13<00:22,  6.18it/s]"
     ]
    },
    {
     "name": "stdout",
     "output_type": "stream",
     "text": [
      "Batch 96 processed\n",
      "Batch 97 processed\n"
     ]
    },
    {
     "name": "stderr",
     "output_type": "stream",
     "text": [
      " 42%|████▏     | 100/240 [00:13<00:24,  5.75it/s]"
     ]
    },
    {
     "name": "stdout",
     "output_type": "stream",
     "text": [
      "Batch 98 processed\n",
      "Batch 99 processed\n",
      "Batch 100 processed\n"
     ]
    },
    {
     "name": "stderr",
     "output_type": "stream",
     "text": [
      " 43%|████▎     | 103/240 [00:14<00:19,  7.19it/s]"
     ]
    },
    {
     "name": "stdout",
     "output_type": "stream",
     "text": [
      "Batch 101 processed\n",
      "Batch 102 processed\n"
     ]
    },
    {
     "name": "stderr",
     "output_type": "stream",
     "text": [
      " 44%|████▍     | 105/240 [00:14<00:17,  7.53it/s]"
     ]
    },
    {
     "name": "stdout",
     "output_type": "stream",
     "text": [
      "Batch 103 processed\n",
      "Batch 104 processed\n"
     ]
    },
    {
     "name": "stderr",
     "output_type": "stream",
     "text": [
      " 45%|████▍     | 107/240 [00:14<00:17,  7.43it/s]"
     ]
    },
    {
     "name": "stdout",
     "output_type": "stream",
     "text": [
      "Batch 105 processed\n",
      "Batch 106 processed\n"
     ]
    },
    {
     "name": "stderr",
     "output_type": "stream",
     "text": [
      " 45%|████▌     | 109/240 [00:14<00:16,  8.05it/s]"
     ]
    },
    {
     "name": "stdout",
     "output_type": "stream",
     "text": [
      "Batch 107 processed\n",
      "Batch 108 processed\n"
     ]
    },
    {
     "name": "stderr",
     "output_type": "stream",
     "text": [
      " 46%|████▋     | 111/240 [00:15<00:16,  7.77it/s]"
     ]
    },
    {
     "name": "stdout",
     "output_type": "stream",
     "text": [
      "Batch 109 processed\n",
      "Batch 110 processed\n"
     ]
    },
    {
     "name": "stderr",
     "output_type": "stream",
     "text": [
      " 47%|████▋     | 113/240 [00:15<00:16,  7.85it/s]"
     ]
    },
    {
     "name": "stdout",
     "output_type": "stream",
     "text": [
      "Batch 111 processed\n",
      "Batch 112 processed\n"
     ]
    },
    {
     "name": "stderr",
     "output_type": "stream",
     "text": [
      " 48%|████▊     | 115/240 [00:15<00:16,  7.48it/s]"
     ]
    },
    {
     "name": "stdout",
     "output_type": "stream",
     "text": [
      "Batch 113 processed\n",
      "Batch 114 processed\n"
     ]
    },
    {
     "name": "stderr",
     "output_type": "stream",
     "text": [
      " 49%|████▉     | 117/240 [00:15<00:18,  6.50it/s]"
     ]
    },
    {
     "name": "stdout",
     "output_type": "stream",
     "text": [
      "Batch 115 processed\n",
      "Batch 116 processed\n"
     ]
    },
    {
     "name": "stderr",
     "output_type": "stream",
     "text": [
      " 50%|████▉     | 119/240 [00:16<00:19,  6.23it/s]"
     ]
    },
    {
     "name": "stdout",
     "output_type": "stream",
     "text": [
      "Batch 117 processed\n",
      "Batch 118 processed\n"
     ]
    },
    {
     "name": "stderr",
     "output_type": "stream",
     "text": [
      " 50%|█████     | 121/240 [00:16<00:19,  6.25it/s]"
     ]
    },
    {
     "name": "stdout",
     "output_type": "stream",
     "text": [
      "Batch 119 processed\n",
      "Batch 120 processed\n"
     ]
    },
    {
     "name": "stderr",
     "output_type": "stream",
     "text": [
      " 51%|█████▏    | 123/240 [00:16<00:18,  6.33it/s]"
     ]
    },
    {
     "name": "stdout",
     "output_type": "stream",
     "text": [
      "Batch 121 processed\n",
      "Batch 122 processed\n"
     ]
    },
    {
     "name": "stderr",
     "output_type": "stream",
     "text": [
      " 52%|█████▏    | 124/240 [00:17<00:19,  6.06it/s]"
     ]
    },
    {
     "name": "stdout",
     "output_type": "stream",
     "text": [
      "Batch 123 processed\n",
      "Batch 124 processed\n"
     ]
    },
    {
     "name": "stderr",
     "output_type": "stream",
     "text": [
      " 53%|█████▎    | 127/240 [00:17<00:17,  6.53it/s]"
     ]
    },
    {
     "name": "stdout",
     "output_type": "stream",
     "text": [
      "Batch 125 processed\n",
      "Batch 126 processed\n"
     ]
    },
    {
     "name": "stderr",
     "output_type": "stream",
     "text": [
      " 53%|█████▎    | 128/240 [00:17<00:18,  6.20it/s]"
     ]
    },
    {
     "name": "stdout",
     "output_type": "stream",
     "text": [
      "Batch 127 processed\n",
      "Batch 128 processed\n"
     ]
    },
    {
     "name": "stderr",
     "output_type": "stream",
     "text": [
      " 55%|█████▍    | 131/240 [00:18<00:15,  7.05it/s]"
     ]
    },
    {
     "name": "stdout",
     "output_type": "stream",
     "text": [
      "Batch 129 processed\n",
      "Batch 130 processed\n"
     ]
    },
    {
     "name": "stderr",
     "output_type": "stream",
     "text": [
      " 55%|█████▌    | 133/240 [00:18<00:15,  7.01it/s]"
     ]
    },
    {
     "name": "stdout",
     "output_type": "stream",
     "text": [
      "Batch 131 processed\n",
      "Batch 132 processed\n"
     ]
    },
    {
     "name": "stderr",
     "output_type": "stream",
     "text": [
      " 56%|█████▌    | 134/240 [00:18<00:14,  7.37it/s]"
     ]
    },
    {
     "name": "stdout",
     "output_type": "stream",
     "text": [
      "Batch 133 processed\n",
      "Batch 134 processed\n"
     ]
    },
    {
     "name": "stderr",
     "output_type": "stream",
     "text": [
      " 57%|█████▋    | 136/240 [00:18<00:15,  6.61it/s]"
     ]
    },
    {
     "name": "stdout",
     "output_type": "stream",
     "text": [
      "Batch 135 processed\n"
     ]
    },
    {
     "name": "stderr",
     "output_type": "stream",
     "text": [
      " 57%|█████▊    | 138/240 [00:19<00:17,  5.67it/s]"
     ]
    },
    {
     "name": "stdout",
     "output_type": "stream",
     "text": [
      "Batch 136 processed\n",
      "Batch 137 processed\n"
     ]
    },
    {
     "name": "stderr",
     "output_type": "stream",
     "text": [
      " 58%|█████▊    | 140/240 [00:19<00:17,  5.87it/s]"
     ]
    },
    {
     "name": "stdout",
     "output_type": "stream",
     "text": [
      "Batch 138 processed\n",
      "Batch 139 processed\n"
     ]
    },
    {
     "name": "stderr",
     "output_type": "stream",
     "text": [
      " 59%|█████▉    | 142/240 [00:19<00:14,  6.71it/s]"
     ]
    },
    {
     "name": "stdout",
     "output_type": "stream",
     "text": [
      "Batch 140 processed\n",
      "Batch 141 processed\n"
     ]
    },
    {
     "name": "stderr",
     "output_type": "stream",
     "text": [
      " 60%|██████    | 144/240 [00:20<00:12,  7.63it/s]"
     ]
    },
    {
     "name": "stdout",
     "output_type": "stream",
     "text": [
      "Batch 142 processed\n",
      "Batch 143 processed\n"
     ]
    },
    {
     "name": "stderr",
     "output_type": "stream",
     "text": [
      " 61%|██████    | 146/240 [00:20<00:15,  6.14it/s]"
     ]
    },
    {
     "name": "stdout",
     "output_type": "stream",
     "text": [
      "Batch 144 processed\n",
      "Batch 145 processed\n"
     ]
    },
    {
     "name": "stderr",
     "output_type": "stream",
     "text": [
      " 62%|██████▏   | 148/240 [00:20<00:15,  5.85it/s]"
     ]
    },
    {
     "name": "stdout",
     "output_type": "stream",
     "text": [
      "Batch 146 processed\n",
      "Batch 147 processed\n"
     ]
    },
    {
     "name": "stderr",
     "output_type": "stream",
     "text": [
      " 62%|██████▎   | 150/240 [00:21<00:14,  6.11it/s]"
     ]
    },
    {
     "name": "stdout",
     "output_type": "stream",
     "text": [
      "Batch 148 processed\n",
      "Batch 149 processed\n",
      "Batch 150 processed\n"
     ]
    },
    {
     "name": "stderr",
     "output_type": "stream",
     "text": [
      " 63%|██████▎   | 152/240 [00:21<00:15,  5.80it/s]"
     ]
    },
    {
     "name": "stdout",
     "output_type": "stream",
     "text": [
      "Batch 151 processed\n",
      "Batch 152 processed\n"
     ]
    },
    {
     "name": "stderr",
     "output_type": "stream",
     "text": [
      " 65%|██████▍   | 155/240 [00:21<00:12,  6.67it/s]"
     ]
    },
    {
     "name": "stdout",
     "output_type": "stream",
     "text": [
      "Batch 153 processed\n",
      "Batch 154 processed\n"
     ]
    },
    {
     "name": "stderr",
     "output_type": "stream",
     "text": [
      " 65%|██████▌   | 156/240 [00:21<00:11,  7.24it/s]"
     ]
    },
    {
     "name": "stdout",
     "output_type": "stream",
     "text": [
      "Batch 155 processed\n",
      "Batch 156 processed\n"
     ]
    },
    {
     "name": "stderr",
     "output_type": "stream",
     "text": [
      " 66%|██████▋   | 159/240 [00:22<00:10,  7.52it/s]"
     ]
    },
    {
     "name": "stdout",
     "output_type": "stream",
     "text": [
      "Batch 157 processed\n",
      "Batch 158 processed\n"
     ]
    },
    {
     "name": "stderr",
     "output_type": "stream",
     "text": [
      " 67%|██████▋   | 161/240 [00:22<00:11,  7.02it/s]"
     ]
    },
    {
     "name": "stdout",
     "output_type": "stream",
     "text": [
      "Batch 159 processed\n",
      "Batch 160 processed\n"
     ]
    },
    {
     "name": "stderr",
     "output_type": "stream",
     "text": [
      " 68%|██████▊   | 163/240 [00:22<00:12,  6.35it/s]"
     ]
    },
    {
     "name": "stdout",
     "output_type": "stream",
     "text": [
      "Batch 161 processed\n",
      "Batch 162 processed\n"
     ]
    },
    {
     "name": "stderr",
     "output_type": "stream",
     "text": [
      " 69%|██████▉   | 165/240 [00:23<00:11,  6.25it/s]"
     ]
    },
    {
     "name": "stdout",
     "output_type": "stream",
     "text": [
      "Batch 163 processed\n",
      "Batch 164 processed\n"
     ]
    },
    {
     "name": "stderr",
     "output_type": "stream",
     "text": [
      " 70%|██████▉   | 167/240 [00:23<00:12,  5.84it/s]"
     ]
    },
    {
     "name": "stdout",
     "output_type": "stream",
     "text": [
      "Batch 165 processed\n",
      "Batch 166 processed\n"
     ]
    },
    {
     "name": "stderr",
     "output_type": "stream",
     "text": [
      " 70%|███████   | 169/240 [00:24<00:12,  5.70it/s]"
     ]
    },
    {
     "name": "stdout",
     "output_type": "stream",
     "text": [
      "Batch 167 processed\n",
      "Batch 168 processed\n"
     ]
    },
    {
     "name": "stderr",
     "output_type": "stream",
     "text": [
      " 71%|███████▏  | 171/240 [00:24<00:10,  6.90it/s]"
     ]
    },
    {
     "name": "stdout",
     "output_type": "stream",
     "text": [
      "Batch 169 processed\n",
      "Batch 170 processed\n"
     ]
    },
    {
     "name": "stderr",
     "output_type": "stream",
     "text": [
      " 72%|███████▏  | 173/240 [00:24<00:10,  6.36it/s]"
     ]
    },
    {
     "name": "stdout",
     "output_type": "stream",
     "text": [
      "Batch 171 processed\n",
      "Batch 172 processed\n"
     ]
    },
    {
     "name": "stderr",
     "output_type": "stream",
     "text": [
      " 73%|███████▎  | 175/240 [00:24<00:10,  6.42it/s]"
     ]
    },
    {
     "name": "stdout",
     "output_type": "stream",
     "text": [
      "Batch 173 processed\n",
      "Batch 174 processed\n"
     ]
    },
    {
     "name": "stderr",
     "output_type": "stream",
     "text": [
      " 74%|███████▍  | 177/240 [00:25<00:09,  6.86it/s]"
     ]
    },
    {
     "name": "stdout",
     "output_type": "stream",
     "text": [
      "Batch 175 processed\n",
      "Batch 176 processed\n"
     ]
    },
    {
     "name": "stderr",
     "output_type": "stream",
     "text": [
      " 75%|███████▍  | 179/240 [00:25<00:10,  5.94it/s]"
     ]
    },
    {
     "name": "stdout",
     "output_type": "stream",
     "text": [
      "Batch 177 processed\n",
      "Batch 178 processed\n"
     ]
    },
    {
     "name": "stderr",
     "output_type": "stream",
     "text": [
      " 75%|███████▌  | 180/240 [00:25<00:09,  6.12it/s]"
     ]
    },
    {
     "name": "stdout",
     "output_type": "stream",
     "text": [
      "Batch 179 processed\n",
      "Batch 180 processed\n"
     ]
    },
    {
     "name": "stderr",
     "output_type": "stream",
     "text": [
      " 76%|███████▌  | 182/240 [00:25<00:08,  7.21it/s]"
     ]
    },
    {
     "name": "stdout",
     "output_type": "stream",
     "text": [
      "Batch 181 processed\n"
     ]
    },
    {
     "name": "stderr",
     "output_type": "stream",
     "text": [
      " 77%|███████▋  | 184/240 [00:26<00:08,  6.26it/s]"
     ]
    },
    {
     "name": "stdout",
     "output_type": "stream",
     "text": [
      "Batch 182 processed\n",
      "Batch 183 processed\n"
     ]
    },
    {
     "name": "stderr",
     "output_type": "stream",
     "text": [
      " 78%|███████▊  | 186/240 [00:26<00:07,  7.30it/s]"
     ]
    },
    {
     "name": "stdout",
     "output_type": "stream",
     "text": [
      "Batch 184 processed\n",
      "Batch 185 processed\n"
     ]
    },
    {
     "name": "stderr",
     "output_type": "stream",
     "text": [
      " 78%|███████▊  | 188/240 [00:26<00:06,  8.41it/s]"
     ]
    },
    {
     "name": "stdout",
     "output_type": "stream",
     "text": [
      "Batch 186 processed\n",
      "Batch 187 processed\n"
     ]
    },
    {
     "name": "stderr",
     "output_type": "stream",
     "text": [
      " 79%|███████▉  | 190/240 [00:27<00:06,  8.13it/s]"
     ]
    },
    {
     "name": "stdout",
     "output_type": "stream",
     "text": [
      "Batch 188 processed\n",
      "Batch 189 processed\n"
     ]
    },
    {
     "name": "stderr",
     "output_type": "stream",
     "text": [
      " 80%|████████  | 192/240 [00:27<00:06,  7.91it/s]"
     ]
    },
    {
     "name": "stdout",
     "output_type": "stream",
     "text": [
      "Batch 190 processed\n",
      "Batch 191 processed\n"
     ]
    },
    {
     "name": "stderr",
     "output_type": "stream",
     "text": [
      " 81%|████████  | 194/240 [00:27<00:06,  7.29it/s]"
     ]
    },
    {
     "name": "stdout",
     "output_type": "stream",
     "text": [
      "Batch 192 processed\n",
      "Batch 193 processed\n"
     ]
    },
    {
     "name": "stderr",
     "output_type": "stream",
     "text": [
      " 82%|████████▏ | 196/240 [00:27<00:07,  6.26it/s]"
     ]
    },
    {
     "name": "stdout",
     "output_type": "stream",
     "text": [
      "Batch 194 processed\n",
      "Batch 195 processed\n"
     ]
    },
    {
     "name": "stderr",
     "output_type": "stream",
     "text": [
      " 82%|████████▎ | 198/240 [00:28<00:05,  7.00it/s]"
     ]
    },
    {
     "name": "stdout",
     "output_type": "stream",
     "text": [
      "Batch 196 processed\n",
      "Batch 197 processed\n"
     ]
    },
    {
     "name": "stderr",
     "output_type": "stream",
     "text": [
      " 83%|████████▎ | 199/240 [00:28<00:07,  5.78it/s]"
     ]
    },
    {
     "name": "stdout",
     "output_type": "stream",
     "text": [
      "Batch 198 processed\n"
     ]
    },
    {
     "name": "stderr",
     "output_type": "stream",
     "text": [
      " 83%|████████▎ | 200/240 [00:28<00:07,  5.45it/s]"
     ]
    },
    {
     "name": "stdout",
     "output_type": "stream",
     "text": [
      "Batch 199 processed\n"
     ]
    },
    {
     "name": "stderr",
     "output_type": "stream",
     "text": [
      " 84%|████████▍ | 202/240 [00:29<00:07,  5.36it/s]"
     ]
    },
    {
     "name": "stdout",
     "output_type": "stream",
     "text": [
      "Batch 200 processed\n",
      "Batch 201 processed\n"
     ]
    },
    {
     "name": "stderr",
     "output_type": "stream",
     "text": [
      " 85%|████████▌ | 204/240 [00:29<00:06,  5.45it/s]"
     ]
    },
    {
     "name": "stdout",
     "output_type": "stream",
     "text": [
      "Batch 202 processed\n",
      "Batch 203 processed\n"
     ]
    },
    {
     "name": "stderr",
     "output_type": "stream",
     "text": [
      " 86%|████████▌ | 206/240 [00:29<00:05,  5.68it/s]"
     ]
    },
    {
     "name": "stdout",
     "output_type": "stream",
     "text": [
      "Batch 204 processed\n",
      "Batch 205 processed\n"
     ]
    },
    {
     "name": "stderr",
     "output_type": "stream",
     "text": [
      " 87%|████████▋ | 208/240 [00:30<00:05,  5.75it/s]"
     ]
    },
    {
     "name": "stdout",
     "output_type": "stream",
     "text": [
      "Batch 206 processed\n",
      "Batch 207 processed\n"
     ]
    },
    {
     "name": "stderr",
     "output_type": "stream",
     "text": [
      " 88%|████████▊ | 210/240 [00:30<00:04,  6.52it/s]"
     ]
    },
    {
     "name": "stdout",
     "output_type": "stream",
     "text": [
      "Batch 208 processed\n",
      "Batch 209 processed\n"
     ]
    },
    {
     "name": "stderr",
     "output_type": "stream",
     "text": [
      " 88%|████████▊ | 212/240 [00:30<00:04,  6.52it/s]"
     ]
    },
    {
     "name": "stdout",
     "output_type": "stream",
     "text": [
      "Batch 210 processed\n",
      "Batch 211 processed\n"
     ]
    },
    {
     "name": "stderr",
     "output_type": "stream",
     "text": [
      " 89%|████████▉ | 214/240 [00:31<00:04,  5.80it/s]"
     ]
    },
    {
     "name": "stdout",
     "output_type": "stream",
     "text": [
      "Batch 212 processed\n",
      "Batch 213 processed\n"
     ]
    },
    {
     "name": "stderr",
     "output_type": "stream",
     "text": [
      " 90%|█████████ | 216/240 [00:31<00:03,  6.19it/s]"
     ]
    },
    {
     "name": "stdout",
     "output_type": "stream",
     "text": [
      "Batch 214 processed\n",
      "Batch 215 processed\n"
     ]
    },
    {
     "name": "stderr",
     "output_type": "stream",
     "text": [
      " 90%|█████████ | 217/240 [00:31<00:03,  5.78it/s]"
     ]
    },
    {
     "name": "stdout",
     "output_type": "stream",
     "text": [
      "Batch 216 processed\n",
      "Batch 217 processed\n"
     ]
    },
    {
     "name": "stderr",
     "output_type": "stream",
     "text": [
      " 92%|█████████▏| 220/240 [00:32<00:03,  6.54it/s]"
     ]
    },
    {
     "name": "stdout",
     "output_type": "stream",
     "text": [
      "Batch 218 processed\n",
      "Batch 219 processed\n"
     ]
    },
    {
     "name": "stderr",
     "output_type": "stream",
     "text": [
      " 92%|█████████▏| 221/240 [00:32<00:02,  7.00it/s]"
     ]
    },
    {
     "name": "stdout",
     "output_type": "stream",
     "text": [
      "Batch 220 processed\n"
     ]
    },
    {
     "name": "stderr",
     "output_type": "stream",
     "text": [
      " 93%|█████████▎| 223/240 [00:32<00:02,  6.40it/s]"
     ]
    },
    {
     "name": "stdout",
     "output_type": "stream",
     "text": [
      "Batch 221 processed\n",
      "Batch 222 processed\n"
     ]
    },
    {
     "name": "stderr",
     "output_type": "stream",
     "text": [
      " 94%|█████████▍| 225/240 [00:32<00:02,  6.30it/s]"
     ]
    },
    {
     "name": "stdout",
     "output_type": "stream",
     "text": [
      "Batch 223 processed\n",
      "Batch 224 processed\n"
     ]
    },
    {
     "name": "stderr",
     "output_type": "stream",
     "text": [
      " 95%|█████████▍| 227/240 [00:33<00:02,  6.24it/s]"
     ]
    },
    {
     "name": "stdout",
     "output_type": "stream",
     "text": [
      "Batch 225 processed\n",
      "Batch 226 processed\n",
      "Batch 227 processed\n"
     ]
    },
    {
     "name": "stderr",
     "output_type": "stream",
     "text": [
      " 96%|█████████▌| 230/240 [00:33<00:01,  7.57it/s]"
     ]
    },
    {
     "name": "stdout",
     "output_type": "stream",
     "text": [
      "Batch 228 processed\n",
      "Batch 229 processed\n"
     ]
    },
    {
     "name": "stderr",
     "output_type": "stream",
     "text": [
      " 96%|█████████▋| 231/240 [00:33<00:01,  7.36it/s]"
     ]
    },
    {
     "name": "stdout",
     "output_type": "stream",
     "text": [
      "Batch 230 processed\n"
     ]
    },
    {
     "name": "stderr",
     "output_type": "stream",
     "text": [
      " 97%|█████████▋| 233/240 [00:34<00:01,  6.06it/s]"
     ]
    },
    {
     "name": "stdout",
     "output_type": "stream",
     "text": [
      "Batch 231 processed\n",
      "Batch 232 processed\n"
     ]
    },
    {
     "name": "stderr",
     "output_type": "stream",
     "text": [
      " 98%|█████████▊| 234/240 [00:34<00:01,  5.94it/s]"
     ]
    },
    {
     "name": "stdout",
     "output_type": "stream",
     "text": [
      "Batch 233 processed\n"
     ]
    },
    {
     "name": "stderr",
     "output_type": "stream",
     "text": [
      " 98%|█████████▊| 236/240 [00:34<00:00,  5.18it/s]"
     ]
    },
    {
     "name": "stdout",
     "output_type": "stream",
     "text": [
      "Batch 234 processed\n",
      "Batch 235 processed\n"
     ]
    },
    {
     "name": "stderr",
     "output_type": "stream",
     "text": [
      " 99%|█████████▉| 237/240 [00:34<00:00,  5.23it/s]"
     ]
    },
    {
     "name": "stdout",
     "output_type": "stream",
     "text": [
      "Batch 236 processed\n"
     ]
    },
    {
     "name": "stderr",
     "output_type": "stream",
     "text": [
      "100%|██████████| 240/240 [00:35<00:00,  6.80it/s]"
     ]
    },
    {
     "name": "stdout",
     "output_type": "stream",
     "text": [
      "Batch 237 processed\n",
      "Batch 238 processed\n",
      "Batch 239 processed\n"
     ]
    },
    {
     "name": "stderr",
     "output_type": "stream",
     "text": [
      "\n"
     ]
    },
    {
     "name": "stdout",
     "output_type": "stream",
     "text": [
      "Remaining images processed\n"
     ]
    }
   ],
   "source": [
    "batch_size = 10\n",
    "total_images = df_updated.shape[0]\n",
    "num_batches = total_images // batch_size\n",
    "\n",
    "train_images = []\n",
    "\n",
    "for batch_idx in tqdm(range(num_batches)):\n",
    "    start_idx = batch_idx * batch_size\n",
    "    end_idx = min((batch_idx + 1) * batch_size, total_images)  # Ensure end_idx doesn't go beyond total_images\n",
    "\n",
    "    batch_images = []\n",
    "    for i in range(start_idx, end_idx):\n",
    "        img_path = '/kaggle/input/newimages2/newimages2/' + str(df_updated['imagePath'][i]) + '.jpg'\n",
    "        img = tf.keras.preprocessing.image.load_img(img_path, target_size=(224, 224, 3))\n",
    "        img = tf.keras.preprocessing.image.img_to_array(img)\n",
    "        img = img / 255\n",
    "        batch_images.append(img)\n",
    "\n",
    "    train_images.extend(batch_images)\n",
    "    print('Batch', batch_idx, 'processed')\n",
    "\n",
    "# Process the remaining images (if any) that didn't fit into complete batches\n",
    "if total_images % batch_size != 0:\n",
    "    remaining_images = total_images % batch_size\n",
    "    start_idx = num_batches * batch_size\n",
    "    end_idx = start_idx + remaining_images\n",
    "\n",
    "    remaining_batch = []\n",
    "    for i in range(start_idx, end_idx):\n",
    "        img_path = '/kaggle/input/newimages2/newimages2/' + str(df_updated['imagePath'][i]) + '.jpg'\n",
    "        img = tf.keras.preprocessing.image.load_img(img_path, target_size=(224, 224, 3))\n",
    "        img = tf.keras.preprocessing.image.img_to_array(img)\n",
    "        img = img / 255\n",
    "        remaining_batch.append(img)\n",
    "\n",
    "    train_images.extend(remaining_batch)\n",
    "    print('Remaining images processed')\n",
    "\n",
    "X = np.array(train_images)"
   ]
  },
  {
   "cell_type": "code",
   "execution_count": 63,
   "metadata": {
    "execution": {
     "iopub.execute_input": "2023-08-07T15:59:21.042537Z",
     "iopub.status.busy": "2023-08-07T15:59:21.042011Z",
     "iopub.status.idle": "2023-08-07T15:59:21.052523Z",
     "shell.execute_reply": "2023-08-07T15:59:21.051035Z",
     "shell.execute_reply.started": "2023-08-07T15:59:21.042497Z"
    }
   },
   "outputs": [
    {
     "data": {
      "text/plain": [
       "(2404, 224, 224, 3)"
      ]
     },
     "execution_count": 63,
     "metadata": {},
     "output_type": "execute_result"
    }
   ],
   "source": [
    "X.shape"
   ]
  },
  {
   "cell_type": "code",
   "execution_count": 64,
   "metadata": {
    "execution": {
     "iopub.execute_input": "2023-08-07T15:59:26.549231Z",
     "iopub.status.busy": "2023-08-07T15:59:26.548663Z",
     "iopub.status.idle": "2023-08-07T15:59:26.563282Z",
     "shell.execute_reply": "2023-08-07T15:59:26.561306Z",
     "shell.execute_reply.started": "2023-08-07T15:59:26.549191Z"
    }
   },
   "outputs": [
    {
     "data": {
      "text/plain": [
       "(2404, 14)"
      ]
     },
     "execution_count": 64,
     "metadata": {},
     "output_type": "execute_result"
    }
   ],
   "source": [
    "y = np.array(df_updated.drop(['imagePath'],axis=1))\n",
    "y.shape"
   ]
  },
  {
   "cell_type": "code",
   "execution_count": 65,
   "metadata": {
    "execution": {
     "iopub.execute_input": "2023-08-07T15:59:31.446330Z",
     "iopub.status.busy": "2023-08-07T15:59:31.445790Z",
     "iopub.status.idle": "2023-08-07T15:59:32.029783Z",
     "shell.execute_reply": "2023-08-07T15:59:32.028236Z",
     "shell.execute_reply.started": "2023-08-07T15:59:31.446289Z"
    }
   },
   "outputs": [],
   "source": [
    "X_train, X_test, y_train, y_test = train_test_split(X, y, random_state=42, test_size=0.1)\n"
   ]
  },
  {
   "cell_type": "code",
   "execution_count": 48,
   "metadata": {
    "execution": {
     "iopub.execute_input": "2023-08-07T15:29:34.001539Z",
     "iopub.status.busy": "2023-08-07T15:29:34.001000Z",
     "iopub.status.idle": "2023-08-07T15:29:34.011464Z",
     "shell.execute_reply": "2023-08-07T15:29:34.009157Z",
     "shell.execute_reply.started": "2023-08-07T15:29:34.001499Z"
    }
   },
   "outputs": [
    {
     "name": "stdout",
     "output_type": "stream",
     "text": [
      "X shape: (2404, 224, 224, 3)\n",
      "y shape: (2404, 9)\n"
     ]
    }
   ],
   "source": [
    "print(\"X shape:\", X.shape)\n",
    "print(\"y shape:\", y.shape)\n"
   ]
  },
  {
   "cell_type": "code",
   "execution_count": 49,
   "metadata": {
    "execution": {
     "iopub.execute_input": "2023-08-07T15:29:38.604986Z",
     "iopub.status.busy": "2023-08-07T15:29:38.604454Z",
     "iopub.status.idle": "2023-08-07T15:29:38.613874Z",
     "shell.execute_reply": "2023-08-07T15:29:38.612853Z",
     "shell.execute_reply.started": "2023-08-07T15:29:38.604943Z"
    }
   },
   "outputs": [
    {
     "data": {
      "text/plain": [
       "array([1, 1, 0, 0, 1, 0, 0, 1, 0], dtype=uint8)"
      ]
     },
     "execution_count": 49,
     "metadata": {},
     "output_type": "execute_result"
    }
   ],
   "source": [
    "y_train[1]"
   ]
  },
  {
   "cell_type": "code",
   "execution_count": 50,
   "metadata": {
    "execution": {
     "iopub.execute_input": "2023-08-07T15:29:52.415144Z",
     "iopub.status.busy": "2023-08-07T15:29:52.414629Z",
     "iopub.status.idle": "2023-08-07T15:29:52.422598Z",
     "shell.execute_reply": "2023-08-07T15:29:52.420650Z",
     "shell.execute_reply.started": "2023-08-07T15:29:52.415106Z"
    }
   },
   "outputs": [],
   "source": [
    "y_train = y_train.astype('int32')\n",
    "y_test = y_test.astype('int32')"
   ]
  },
  {
   "cell_type": "code",
   "execution_count": 51,
   "metadata": {
    "execution": {
     "iopub.execute_input": "2023-08-07T15:29:55.538717Z",
     "iopub.status.busy": "2023-08-07T15:29:55.538191Z",
     "iopub.status.idle": "2023-08-07T15:29:55.547808Z",
     "shell.execute_reply": "2023-08-07T15:29:55.546498Z",
     "shell.execute_reply.started": "2023-08-07T15:29:55.538676Z"
    }
   },
   "outputs": [
    {
     "data": {
      "text/plain": [
       "array([1, 1, 0, 0, 1, 0, 0, 1, 0], dtype=int32)"
      ]
     },
     "execution_count": 51,
     "metadata": {},
     "output_type": "execute_result"
    }
   ],
   "source": [
    "y_train[1]"
   ]
  },
  {
   "cell_type": "code",
   "execution_count": 52,
   "metadata": {
    "execution": {
     "iopub.execute_input": "2023-08-07T15:30:35.777020Z",
     "iopub.status.busy": "2023-08-07T15:30:35.776501Z",
     "iopub.status.idle": "2023-08-07T15:30:36.001092Z",
     "shell.execute_reply": "2023-08-07T15:30:35.999441Z",
     "shell.execute_reply.started": "2023-08-07T15:30:35.776978Z"
    }
   },
   "outputs": [],
   "source": [
    "model = Sequential()\n",
    "model.add(Conv2D(filters=16, kernel_size=(5, 5), activation=\"relu\", input_shape=(224, 224, 3)))\n",
    "model.add(MaxPooling2D(pool_size=(2, 2)))\n",
    "model.add(Dropout(0.25))\n",
    "model.add(Conv2D(filters=32, kernel_size=(5, 5), activation='relu'))\n",
    "model.add(MaxPooling2D(pool_size=(2, 2)))\n",
    "model.add(Dropout(0.25))\n",
    "model.add(Conv2D(filters=64, kernel_size=(5, 5), activation=\"relu\"))\n",
    "model.add(MaxPooling2D(pool_size=(2, 2)))\n",
    "model.add(Dropout(0.25))\n",
    "model.add(Conv2D(filters=64, kernel_size=(5, 5), activation='relu'))\n",
    "model.add(MaxPooling2D(pool_size=(2, 2)))\n",
    "model.add(Dropout(0.25))\n",
    "model.add(Flatten())\n",
    "model.add(Dense(128, activation='relu'))\n",
    "model.add(Dropout(0.5))\n",
    "model.add(Dense(64, activation='relu'))\n",
    "model.add(Dropout(0.5))\n",
    "model.add(Dense(9, activation='sigmoid'))  # Update to 19 output neurons\n",
    "\n",
    "model.compile(optimizer='adam', loss='binary_crossentropy', metrics=['accuracy'])"
   ]
  },
  {
   "cell_type": "code",
   "execution_count": 53,
   "metadata": {
    "execution": {
     "iopub.execute_input": "2023-08-07T15:30:44.299885Z",
     "iopub.status.busy": "2023-08-07T15:30:44.299397Z",
     "iopub.status.idle": "2023-08-07T15:30:44.363214Z",
     "shell.execute_reply": "2023-08-07T15:30:44.361952Z",
     "shell.execute_reply.started": "2023-08-07T15:30:44.299845Z"
    }
   },
   "outputs": [
    {
     "name": "stdout",
     "output_type": "stream",
     "text": [
      "Model: \"sequential_1\"\n",
      "_________________________________________________________________\n",
      " Layer (type)                Output Shape              Param #   \n",
      "=================================================================\n",
      " conv2d_4 (Conv2D)           (None, 220, 220, 16)      1216      \n",
      "                                                                 \n",
      " max_pooling2d_4 (MaxPooling  (None, 110, 110, 16)     0         \n",
      " 2D)                                                             \n",
      "                                                                 \n",
      " dropout_6 (Dropout)         (None, 110, 110, 16)      0         \n",
      "                                                                 \n",
      " conv2d_5 (Conv2D)           (None, 106, 106, 32)      12832     \n",
      "                                                                 \n",
      " max_pooling2d_5 (MaxPooling  (None, 53, 53, 32)       0         \n",
      " 2D)                                                             \n",
      "                                                                 \n",
      " dropout_7 (Dropout)         (None, 53, 53, 32)        0         \n",
      "                                                                 \n",
      " conv2d_6 (Conv2D)           (None, 49, 49, 64)        51264     \n",
      "                                                                 \n",
      " max_pooling2d_6 (MaxPooling  (None, 24, 24, 64)       0         \n",
      " 2D)                                                             \n",
      "                                                                 \n",
      " dropout_8 (Dropout)         (None, 24, 24, 64)        0         \n",
      "                                                                 \n",
      " conv2d_7 (Conv2D)           (None, 20, 20, 64)        102464    \n",
      "                                                                 \n",
      " max_pooling2d_7 (MaxPooling  (None, 10, 10, 64)       0         \n",
      " 2D)                                                             \n",
      "                                                                 \n",
      " dropout_9 (Dropout)         (None, 10, 10, 64)        0         \n",
      "                                                                 \n",
      " flatten_1 (Flatten)         (None, 6400)              0         \n",
      "                                                                 \n",
      " dense_3 (Dense)             (None, 128)               819328    \n",
      "                                                                 \n",
      " dropout_10 (Dropout)        (None, 128)               0         \n",
      "                                                                 \n",
      " dense_4 (Dense)             (None, 64)                8256      \n",
      "                                                                 \n",
      " dropout_11 (Dropout)        (None, 64)                0         \n",
      "                                                                 \n",
      " dense_5 (Dense)             (None, 9)                 585       \n",
      "                                                                 \n",
      "=================================================================\n",
      "Total params: 995,945\n",
      "Trainable params: 995,945\n",
      "Non-trainable params: 0\n",
      "_________________________________________________________________\n"
     ]
    }
   ],
   "source": [
    "model.summary()\n"
   ]
  },
  {
   "cell_type": "code",
   "execution_count": 54,
   "metadata": {
    "execution": {
     "iopub.execute_input": "2023-08-07T15:30:52.819893Z",
     "iopub.status.busy": "2023-08-07T15:30:52.819410Z",
     "iopub.status.idle": "2023-08-07T15:30:52.838109Z",
     "shell.execute_reply": "2023-08-07T15:30:52.835813Z",
     "shell.execute_reply.started": "2023-08-07T15:30:52.819855Z"
    }
   },
   "outputs": [],
   "source": [
    "model.compile(optimizer='adam', loss='binary_crossentropy', metrics=['accuracy'])\n"
   ]
  },
  {
   "cell_type": "code",
   "execution_count": 55,
   "metadata": {
    "execution": {
     "iopub.execute_input": "2023-08-07T15:30:56.515809Z",
     "iopub.status.busy": "2023-08-07T15:30:56.515271Z",
     "iopub.status.idle": "2023-08-07T15:53:34.198305Z",
     "shell.execute_reply": "2023-08-07T15:53:34.196835Z",
     "shell.execute_reply.started": "2023-08-07T15:30:56.515758Z"
    }
   },
   "outputs": [
    {
     "name": "stdout",
     "output_type": "stream",
     "text": [
      "Epoch 1/10\n",
      "34/34 [==============================] - 138s 4s/step - loss: 0.6455 - accuracy: 0.2302 - val_loss: 0.6394 - val_accuracy: 0.3402\n",
      "Epoch 2/10\n",
      "34/34 [==============================] - 135s 4s/step - loss: 0.6107 - accuracy: 0.2954 - val_loss: 0.6107 - val_accuracy: 0.5809\n",
      "Epoch 3/10\n",
      "34/34 [==============================] - 135s 4s/step - loss: 0.5817 - accuracy: 0.4540 - val_loss: 0.5756 - val_accuracy: 0.4855\n",
      "Epoch 4/10\n",
      "34/34 [==============================] - 135s 4s/step - loss: 0.5604 - accuracy: 0.5238 - val_loss: 0.5435 - val_accuracy: 0.5062\n",
      "Epoch 5/10\n",
      "34/34 [==============================] - 136s 4s/step - loss: 0.5406 - accuracy: 0.5636 - val_loss: 0.5324 - val_accuracy: 0.5104\n",
      "Epoch 6/10\n",
      "34/34 [==============================] - 135s 4s/step - loss: 0.5287 - accuracy: 0.5687 - val_loss: 0.5220 - val_accuracy: 0.5643\n",
      "Epoch 7/10\n",
      "34/34 [==============================] - 137s 4s/step - loss: 0.5085 - accuracy: 0.5913 - val_loss: 0.4888 - val_accuracy: 0.5228\n",
      "Epoch 8/10\n",
      "34/34 [==============================] - 136s 4s/step - loss: 0.4935 - accuracy: 0.5992 - val_loss: 0.4635 - val_accuracy: 0.5062\n",
      "Epoch 9/10\n",
      "34/34 [==============================] - 136s 4s/step - loss: 0.4745 - accuracy: 0.5922 - val_loss: 0.4434 - val_accuracy: 0.5021\n",
      "Epoch 10/10\n",
      "34/34 [==============================] - 135s 4s/step - loss: 0.4673 - accuracy: 0.5871 - val_loss: 0.4349 - val_accuracy: 0.5892\n"
     ]
    },
    {
     "data": {
      "text/plain": [
       "<keras.callbacks.History at 0x7eb2980d5240>"
      ]
     },
     "execution_count": 55,
     "metadata": {},
     "output_type": "execute_result"
    }
   ],
   "source": [
    "model.fit(X_train, y_train, epochs=10, validation_data=(X_test, y_test), batch_size=64)\n"
   ]
  },
  {
   "cell_type": "code",
   "execution_count": null,
   "metadata": {},
   "outputs": [],
   "source": [
    "columns_to_delete = ['gender_female', 'isMarried_False']\n",
    "df_updated = df_updated.drop(columns_to_delete, axis=1)"
   ]
  }
 ],
 "metadata": {
  "kernelspec": {
   "display_name": "Python 3 (ipykernel)",
   "language": "python",
   "name": "python3"
  },
  "language_info": {
   "codemirror_mode": {
    "name": "ipython",
    "version": 3
   },
   "file_extension": ".py",
   "mimetype": "text/x-python",
   "name": "python",
   "nbconvert_exporter": "python",
   "pygments_lexer": "ipython3",
   "version": "3.8.10"
  }
 },
 "nbformat": 4,
 "nbformat_minor": 4
}
